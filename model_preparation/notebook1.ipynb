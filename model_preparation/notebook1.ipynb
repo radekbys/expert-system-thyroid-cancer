{
 "cells": [
  {
   "cell_type": "markdown",
   "metadata": {},
   "source": [
    "### 0. Download dataset and save it in the project location"
   ]
  },
  {
   "cell_type": "code",
   "execution_count": 16,
   "metadata": {},
   "outputs": [],
   "source": [
    "# import kagglehub\n",
    "\n",
    "# # Download latest version\n",
    "# path = kagglehub.dataset_download(\"bhargavchirumamilla/thyroid-cancer-risk-dataset\")\n",
    "\n",
    "# print(\"Path to dataset files:\", path)"
   ]
  },
  {
   "cell_type": "code",
   "execution_count": 17,
   "metadata": {},
   "outputs": [],
   "source": [
    "# import os\n",
    "\n",
    "# os.rename(path, \"./download\")"
   ]
  },
  {
   "cell_type": "markdown",
   "metadata": {},
   "source": [
    "###  1. Prepare data for training"
   ]
  },
  {
   "cell_type": "code",
   "execution_count": 18,
   "metadata": {},
   "outputs": [],
   "source": [
    "import pandas as pd\n",
    "\n",
    "df = pd.read_csv(\"./download/thyroid_cancer_risk_data.csv\")\n",
    "df.dropna()\n",
    "df = df.drop(\"Country\", axis=1)\n",
    "df = pd.get_dummies(df, columns=[\"Gender\", \"Ethnicity\", \"Smoking\", \"Obesity\", \"Diabetes\", \"Family_History\", \"Radiation_Exposure\", \"Iodine_Deficiency\"] , dtype=float)\n",
    "\n"
   ]
  },
  {
   "cell_type": "code",
   "execution_count": 19,
   "metadata": {},
   "outputs": [],
   "source": [
    "# Creating a balanced dataset\n",
    "\n",
    "df_benign = df[df[\"Diagnosis\"] == \"Benign\"]\n",
    "df_benign =df_benign.sample(frac=1, random_state=42).reset_index(drop=True)\n",
    "\n",
    "df_malignant = df[df[\"Diagnosis\"]==\"Malignant\"]\n",
    "df_malignant = df_malignant.sample(frac=1, random_state=42).reset_index(drop=True)\n",
    "\n",
    "df = df_benign[:49000]\n",
    "df = pd.concat((df, df_malignant[:49000]), axis=0)\n",
    "df = df.sample(frac=1, random_state=42).reset_index(drop=True)"
   ]
  },
  {
   "cell_type": "code",
   "execution_count": 20,
   "metadata": {},
   "outputs": [
    {
     "data": {
      "text/plain": [
       "(98000, 2)"
      ]
     },
     "execution_count": 20,
     "metadata": {},
     "output_type": "execute_result"
    }
   ],
   "source": [
    "y_risk = df[\"Thyroid_Cancer_Risk\"]\n",
    "y_risk = pd.get_dummies(y_risk)\n",
    "y_diagnosis = df[\"Diagnosis\"]\n",
    "y_diagnosis = pd.get_dummies(y_diagnosis, dtype=float)\n",
    "\n",
    "\n",
    "df = df.drop([\"Thyroid_Cancer_Risk\", \"Diagnosis\", \"Patient_ID\"], axis=1)\n",
    "\n",
    "y = y_diagnosis.values\n",
    "y.shape"
   ]
  },
  {
   "cell_type": "code",
   "execution_count": 21,
   "metadata": {},
   "outputs": [
    {
     "data": {
      "text/plain": [
       "Age                         0.89\n",
       "TSH_Level                   1.00\n",
       "T3_Level                    1.00\n",
       "T4_Level                    1.00\n",
       "Nodule_Size                 1.00\n",
       "Gender_Female               1.00\n",
       "Gender_Male                 1.00\n",
       "Ethnicity_African           1.00\n",
       "Ethnicity_Asian             1.00\n",
       "Ethnicity_Caucasian         1.00\n",
       "Ethnicity_Hispanic          1.00\n",
       "Ethnicity_Middle Eastern    1.00\n",
       "Smoking_No                  1.00\n",
       "Smoking_Yes                 1.00\n",
       "Obesity_No                  1.00\n",
       "Obesity_Yes                 1.00\n",
       "Diabetes_No                 1.00\n",
       "Diabetes_Yes                1.00\n",
       "Family_History_No           1.00\n",
       "Family_History_Yes          1.00\n",
       "Radiation_Exposure_No       1.00\n",
       "Radiation_Exposure_Yes      1.00\n",
       "Iodine_Deficiency_No        1.00\n",
       "Iodine_Deficiency_Yes       1.00\n",
       "dtype: float64"
      ]
     },
     "execution_count": 21,
     "metadata": {},
     "output_type": "execute_result"
    }
   ],
   "source": [
    "df[\"Age\"] = df[\"Age\"]/100\n",
    "df[\"TSH_Level\"] = df[\"TSH_Level\"]/10\n",
    "df[\"T3_Level\"] = df[\"T3_Level\"]/3.5\n",
    "df[\"T4_Level\"] = df[\"T4_Level\"]/12\n",
    "df[\"Nodule_Size\"] = df[\"Nodule_Size\"]/5\n",
    "\n",
    "df.max(axis=0)"
   ]
  },
  {
   "cell_type": "markdown",
   "metadata": {},
   "source": [
    "### Note\n",
    "\n",
    "Age max = 89, I divide by 100, will set later max value to 100,\n",
    "\n",
    "TSH_Level max = 10, -> divide by 10 \n",
    "\n",
    "T3_Level max = 3.5 -> divide by 3.5\n",
    "\n",
    "T4_Level max = 12 -> divide by 12\n",
    "\n",
    "Nodule_Size max = 5 -> divide by 5\n"
   ]
  },
  {
   "cell_type": "code",
   "execution_count": 22,
   "metadata": {},
   "outputs": [],
   "source": [
    "import numpy as np\n",
    "\n",
    "X = df.values\n",
    "X = np.float32(X)\n",
    "y = np.float32(y)"
   ]
  },
  {
   "cell_type": "code",
   "execution_count": 23,
   "metadata": {},
   "outputs": [],
   "source": [
    "from sklearn.model_selection import train_test_split\n",
    "\n",
    "# Prepare data for prediction of diagnosis\n",
    "X_train, X_test, y_train, y_test = train_test_split(X, y, test_size=0.05, random_state=42, shuffle=True)"
   ]
  },
  {
   "cell_type": "markdown",
   "metadata": {},
   "source": [
    "### 2. Solving with decision Tree\n",
    "\n",
    "- 63.9% accuracy"
   ]
  },
  {
   "cell_type": "code",
   "execution_count": 24,
   "metadata": {},
   "outputs": [
    {
     "data": {
      "text/plain": [
       "0.6504081632653061"
      ]
     },
     "execution_count": 24,
     "metadata": {},
     "output_type": "execute_result"
    }
   ],
   "source": [
    "from sklearn.tree import DecisionTreeClassifier\n",
    "\n",
    "model = DecisionTreeClassifier(criterion=\"gini\", splitter=\"best\", max_depth=11)\n",
    "model.fit(X_train, y_train)\n",
    "model.score(X_test, y_test)"
   ]
  },
  {
   "cell_type": "markdown",
   "metadata": {},
   "source": [
    "### 2.1 Exporting decision tree to onnx"
   ]
  },
  {
   "cell_type": "code",
   "execution_count": 25,
   "metadata": {},
   "outputs": [],
   "source": [
    "# Convert into ONNX format.\n",
    "from skl2onnx import to_onnx\n",
    "\n",
    "onx = to_onnx(model, X[:1])\n",
    "with open(\"decision_tree_thyroid_cancer_prediction.onnx\", \"wb\") as f:\n",
    "    f.write(onx.SerializeToString())"
   ]
  },
  {
   "cell_type": "markdown",
   "metadata": {},
   "source": [
    "### 3. Solving with neural network"
   ]
  },
  {
   "cell_type": "code",
   "execution_count": 26,
   "metadata": {},
   "outputs": [
    {
     "data": {
      "text/plain": [
       "ThyroidCancerModel(\n",
       "  (layers): Sequential(\n",
       "    (0): Linear(in_features=24, out_features=512, bias=True)\n",
       "    (1): Dropout(p=0.2, inplace=False)\n",
       "    (2): ReLU()\n",
       "    (3): Linear(in_features=512, out_features=16, bias=True)\n",
       "    (4): Dropout(p=0.2, inplace=False)\n",
       "    (5): ReLU()\n",
       "    (6): Linear(in_features=16, out_features=1, bias=True)\n",
       "  )\n",
       ")"
      ]
     },
     "execution_count": 26,
     "metadata": {},
     "output_type": "execute_result"
    }
   ],
   "source": [
    "import torch\n",
    "\n",
    "class ThyroidCancerModel(torch.nn.Module):\n",
    "    def __init__(self, *args, **kwargs):\n",
    "        super().__init__(*args, **kwargs)\n",
    "        \n",
    "        self.layers = torch.nn.Sequential(\n",
    "            torch.nn.Linear(in_features=24, out_features=512),\n",
    "            torch.nn.Dropout(p=0.2),\n",
    "            torch.nn.ReLU(),\n",
    "            torch.nn.Linear(in_features=512, out_features=16),\n",
    "            torch.nn.Dropout(p=0.2),\n",
    "            torch.nn.ReLU(),\n",
    "            torch.nn.Linear(in_features=16, out_features=1)\n",
    "        )\n",
    "        \n",
    "    def forward(self, x):\n",
    "        return self.layers(x)\n",
    "    \n",
    "model2 = ThyroidCancerModel()\n",
    "model2"
   ]
  },
  {
   "cell_type": "code",
   "execution_count": 27,
   "metadata": {},
   "outputs": [],
   "source": [
    "optimizer = torch.optim.Adam(params = model2.parameters(), lr= 0.0001)\n",
    "lossfn = torch.nn.BCEWithLogitsLoss()"
   ]
  },
  {
   "cell_type": "code",
   "execution_count": 28,
   "metadata": {},
   "outputs": [
    {
     "data": {
      "text/plain": [
       "tensor([[0.1685],\n",
       "        [0.2214],\n",
       "        [0.1976],\n",
       "        ...,\n",
       "        [0.1570],\n",
       "        [0.1906],\n",
       "        [0.2241]], device='cuda:0', grad_fn=<AddmmBackward0>)"
      ]
     },
     "execution_count": 28,
     "metadata": {},
     "output_type": "execute_result"
    }
   ],
   "source": [
    "# creating tensors\n",
    "\n",
    "X_train_t = torch.from_numpy(X_train).to(device=\"cuda\")\n",
    "X_test_t = torch.from_numpy(X_test).to(device=\"cuda\")\n",
    "\n",
    "y_train_t = torch.from_numpy(y_train).to(device=\"cuda\")\n",
    "y_train_t = torch.argmax(y_train_t, dim=1)\n",
    "y_train_t = y_train_t.unsqueeze(dim=1).float()\n",
    "\n",
    "y_test_t = torch.from_numpy(y_test).to(device=\"cuda\")\n",
    "y_test_t = torch.argmax(y_test_t, dim=1)\n",
    "y_test_t = y_test_t.unsqueeze(dim=1).float()\n",
    "\n",
    "model2 = model2.to(device=\"cuda\")\n",
    "\n",
    "model2(X_train_t)"
   ]
  },
  {
   "cell_type": "code",
   "execution_count": 29,
   "metadata": {},
   "outputs": [],
   "source": [
    "results = pd.DataFrame(columns=[\"epoch\", \"training_loss\", \"testing_loss\", \"test_accuracy\", \"test_precision\", \"test_recall\"])"
   ]
  },
  {
   "cell_type": "code",
   "execution_count": 30,
   "metadata": {},
   "outputs": [],
   "source": [
    "from torchmetrics import Accuracy\n",
    "from torchmetrics import Precision\n",
    "from torchmetrics import Recall\n",
    "\n",
    "accuracy = Accuracy(task=\"binary\").to(device=\"cuda\")\n",
    "precision = Precision(task=\"binary\").to(device=\"cuda\")\n",
    "recall = Recall(task=\"binary\").to(device=\"cuda\")"
   ]
  },
  {
   "cell_type": "code",
   "execution_count": 31,
   "metadata": {},
   "outputs": [
    {
     "name": "stdout",
     "output_type": "stream",
     "text": [
      "epoch:0 | loss: 0.6980447173118591 | test_loss: 0.698262095451355 | accuracy: 0.4973469376564026 | precision: 0.4973469376564026 | recall:1.0\n",
      "epoch:100 | loss: 0.6627659797668457 | test_loss: 0.6610541939735413 | accuracy: 0.6253061294555664 | precision: 0.6475208401679993 | recall:0.5412392020225525\n",
      "epoch:200 | loss: 0.643787682056427 | test_loss: 0.6417608857154846 | accuracy: 0.631428599357605 | precision: 0.6637259721755981 | recall:0.5248256325721741\n",
      "epoch:300 | loss: 0.6297478079795837 | test_loss: 0.6267176270484924 | accuracy: 0.6416326761245728 | precision: 0.6903297901153564 | recall:0.5067706108093262\n",
      "epoch:400 | loss: 0.6211003065109253 | test_loss: 0.6167206168174744 | accuracy: 0.6526530385017395 | precision: 0.6813024282455444 | recall:0.566680371761322\n",
      "epoch:500 | loss: 0.617814302444458 | test_loss: 0.6121670007705688 | accuracy: 0.6583673357963562 | precision: 0.6904643177986145 | recall:0.5675010085105896\n",
      "epoch:600 | loss: 0.6163588762283325 | test_loss: 0.61043781042099 | accuracy: 0.6597959399223328 | precision: 0.6930792331695557 | recall:0.5670906901359558\n",
      "epoch:700 | loss: 0.6155107021331787 | test_loss: 0.609795093536377 | accuracy: 0.658979594707489 | precision: 0.6909272074699402 | recall:0.5687320232391357\n",
      "epoch:800 | loss: 0.6146971583366394 | test_loss: 0.6095403432846069 | accuracy: 0.6602040529251099 | precision: 0.6926147937774658 | recall:0.5695527195930481\n",
      "epoch:900 | loss: 0.6149150133132935 | test_loss: 0.6094478368759155 | accuracy: 0.6604081392288208 | precision: 0.6933466792106628 | recall:0.5687320232391357\n",
      "epoch:1000 | loss: 0.6146901845932007 | test_loss: 0.6093985438346863 | accuracy: 0.6597959399223328 | precision: 0.6936619877815247 | recall:0.5658596754074097\n",
      "epoch:1100 | loss: 0.6140428781509399 | test_loss: 0.6094188690185547 | accuracy: 0.6595918536186218 | precision: 0.6933132410049438 | recall:0.5658596754074097\n",
      "epoch:1200 | loss: 0.6138427257537842 | test_loss: 0.6094194650650024 | accuracy: 0.6593877673149109 | precision: 0.6935483813285828 | recall:0.5646286606788635\n",
      "epoch:1300 | loss: 0.6137704253196716 | test_loss: 0.6094256043434143 | accuracy: 0.6595918536186218 | precision: 0.694290041923523 | recall:0.5638079643249512\n",
      "epoch:1400 | loss: 0.6137015223503113 | test_loss: 0.6094551682472229 | accuracy: 0.6595918536186218 | precision: 0.6944866180419922 | recall:0.5633976459503174\n",
      "epoch:1500 | loss: 0.6140885353088379 | test_loss: 0.6094582080841064 | accuracy: 0.6600000262260437 | precision: 0.6959837079048157 | recall:0.5617562532424927\n",
      "epoch:1600 | loss: 0.6135464310646057 | test_loss: 0.6094945073127747 | accuracy: 0.6593877673149109 | precision: 0.6961184740066528 | recall:0.5592942237854004\n",
      "epoch:1700 | loss: 0.6130567789077759 | test_loss: 0.6094387173652649 | accuracy: 0.6587755084037781 | precision: 0.6962544918060303 | recall:0.5568321943283081\n",
      "epoch:1800 | loss: 0.6134865283966064 | test_loss: 0.6094264388084412 | accuracy: 0.6591836810112 | precision: 0.697172224521637 | recall:0.5564218163490295\n",
      "epoch:1900 | loss: 0.6129108667373657 | test_loss: 0.609426736831665 | accuracy: 0.6581632494926453 | precision: 0.696391761302948 | recall:0.554370105266571\n",
      "epoch:2000 | loss: 0.6131762266159058 | test_loss: 0.6094138622283936 | accuracy: 0.6573469638824463 | precision: 0.6961697936058044 | recall:0.5519080758094788\n"
     ]
    }
   ],
   "source": [
    "\n",
    "\n",
    "epochs = 2001\n",
    "\n",
    "for epoch in range(epochs):\n",
    "    model2.train()\n",
    "    logits = model2(X_train_t)\n",
    "    loss = lossfn(logits, y_train_t)\n",
    "    optimizer.zero_grad()\n",
    "    loss.backward()\n",
    "    optimizer.step()\n",
    "    \n",
    "    if epoch % 100 == 0:\n",
    "        model2.eval()\n",
    "        with torch.inference_mode():\n",
    "            test_logits = model2(X_test_t)\n",
    "            test_loss = lossfn(test_logits, y_test_t)\n",
    "            \n",
    "            res = torch.sigmoid(test_logits)\n",
    "            res = (res > 0.5).int()\n",
    "            \n",
    "            ac = accuracy(res, y_test_t)\n",
    "            pc = precision(res, y_test_t)\n",
    "            rc = recall(res, y_test_t)\n",
    "            \n",
    "            results.loc[len(results)] = [epoch, loss.item(), test_loss.item(), ac.item(), pc.item(), rc.item()]\n",
    "            \n",
    "            print(F\"epoch:{epoch} | loss: {loss.item()} | test_loss: {test_loss.item()} | accuracy: {ac.item()} | precision: {pc.item()} | recall:{rc.item()}\")\n",
    "            \n",
    "        "
   ]
  },
  {
   "cell_type": "code",
   "execution_count": 32,
   "metadata": {},
   "outputs": [
    {
     "data": {
      "image/png": "[encoded data removed]",
      "text/plain": [
       "<Figure size 640x480 with 1 Axes>"
      ]
     },
     "metadata": {},
     "output_type": "display_data"
    }
   ],
   "source": [
    "import matplotlib.pyplot as plt\n",
    "\n",
    "\n",
    "plt.scatter(y=results[\"test_accuracy\"].values, x=results[\"epoch\"].values)\n",
    "plt.show()"
   ]
  }
 ],
 "metadata": {
  "kernelspec": {
   "display_name": ".venv",
   "language": "python",
   "name": "python3"
  },
  "language_info": {
   "codemirror_mode": {
    "name": "ipython",
    "version": 3
   },
   "file_extension": ".py",
   "mimetype": "text/x-python",
   "name": "python",
   "nbconvert_exporter": "python",
   "pygments_lexer": "ipython3",
   "version": "3.12.3"
  }
 },
 "nbformat": 4,
 "nbformat_minor": 2
}
