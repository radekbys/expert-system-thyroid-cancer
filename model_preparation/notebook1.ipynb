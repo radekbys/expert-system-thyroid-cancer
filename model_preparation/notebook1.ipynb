{
 "cells": [
  {
   "cell_type": "markdown",
   "metadata": {},
   "source": [
    "### 0. Download dataset and save it in the project location"
   ]
  },
  {
   "cell_type": "code",
   "execution_count": 60,
   "metadata": {},
   "outputs": [],
   "source": [
    "# import kagglehub\n",
    "\n",
    "# # Download latest version\n",
    "# path = kagglehub.dataset_download(\"bhargavchirumamilla/thyroid-cancer-risk-dataset\")\n",
    "\n",
    "# print(\"Path to dataset files:\", path)"
   ]
  },
  {
   "cell_type": "code",
   "execution_count": 61,
   "metadata": {},
   "outputs": [],
   "source": [
    "# import os\n",
    "\n",
    "# os.rename(path, \"./download\")"
   ]
  },
  {
   "cell_type": "markdown",
   "metadata": {},
   "source": [
    "###  1. Prepare data for training"
   ]
  },
  {
   "cell_type": "code",
   "execution_count": 62,
   "metadata": {},
   "outputs": [],
   "source": [
    "import pandas as pd\n",
    "\n",
    "df = pd.read_csv(\"./download/thyroid_cancer_risk_data.csv\")\n",
    "df.dropna()\n",
    "df = df.drop(\"Country\", axis=1)\n",
    "df = pd.get_dummies(df, columns=[\"Gender\", \"Ethnicity\", \"Smoking\", \"Obesity\", \"Diabetes\", \"Family_History\", \"Radiation_Exposure\", \"Iodine_Deficiency\"] , dtype=float)\n",
    "\n"
   ]
  },
  {
   "cell_type": "code",
   "execution_count": 63,
   "metadata": {},
   "outputs": [],
   "source": [
    "# Creating a balanced dataset\n",
    "\n",
    "df_benign = df[df[\"Diagnosis\"] == \"Benign\"]\n",
    "df_benign =df_benign.sample(frac=1, random_state=42).reset_index(drop=True)\n",
    "\n",
    "df_malignant = df[df[\"Diagnosis\"]==\"Malignant\"]\n",
    "df_malignant = df_malignant.sample(frac=1, random_state=42).reset_index(drop=True)\n",
    "\n",
    "df = df_benign[:49000]\n",
    "df = pd.concat((df, df_malignant[:49000]), axis=0)\n",
    "df = df.sample(frac=1, random_state=42).reset_index(drop=True)"
   ]
  },
  {
   "cell_type": "code",
   "execution_count": 64,
   "metadata": {},
   "outputs": [
    {
     "data": {
      "text/plain": [
       "(98000, 2)"
      ]
     },
     "execution_count": 64,
     "metadata": {},
     "output_type": "execute_result"
    }
   ],
   "source": [
    "y_risk = df[\"Thyroid_Cancer_Risk\"]\n",
    "y_risk = pd.get_dummies(y_risk)\n",
    "y_diagnosis = df[\"Diagnosis\"]\n",
    "y_diagnosis = pd.get_dummies(y_diagnosis, dtype=float)\n",
    "\n",
    "\n",
    "df = df.drop([\"Thyroid_Cancer_Risk\", \"Diagnosis\", \"Patient_ID\"], axis=1)\n",
    "\n",
    "y = y_diagnosis.values\n",
    "y.shape"
   ]
  },
  {
   "cell_type": "code",
   "execution_count": 65,
   "metadata": {},
   "outputs": [
    {
     "data": {
      "text/plain": [
       "Age                         0.89\n",
       "TSH_Level                   1.00\n",
       "T3_Level                    1.00\n",
       "T4_Level                    1.00\n",
       "Nodule_Size                 1.00\n",
       "Gender_Female               1.00\n",
       "Gender_Male                 1.00\n",
       "Ethnicity_African           1.00\n",
       "Ethnicity_Asian             1.00\n",
       "Ethnicity_Caucasian         1.00\n",
       "Ethnicity_Hispanic          1.00\n",
       "Ethnicity_Middle Eastern    1.00\n",
       "Smoking_No                  1.00\n",
       "Smoking_Yes                 1.00\n",
       "Obesity_No                  1.00\n",
       "Obesity_Yes                 1.00\n",
       "Diabetes_No                 1.00\n",
       "Diabetes_Yes                1.00\n",
       "Family_History_No           1.00\n",
       "Family_History_Yes          1.00\n",
       "Radiation_Exposure_No       1.00\n",
       "Radiation_Exposure_Yes      1.00\n",
       "Iodine_Deficiency_No        1.00\n",
       "Iodine_Deficiency_Yes       1.00\n",
       "dtype: float64"
      ]
     },
     "execution_count": 65,
     "metadata": {},
     "output_type": "execute_result"
    }
   ],
   "source": [
    "df[\"Age\"] = df[\"Age\"]/100\n",
    "df[\"TSH_Level\"] = df[\"TSH_Level\"]/10\n",
    "df[\"T3_Level\"] = df[\"T3_Level\"]/3.5\n",
    "df[\"T4_Level\"] = df[\"T4_Level\"]/12\n",
    "df[\"Nodule_Size\"] = df[\"Nodule_Size\"]/5\n",
    "\n",
    "df.max(axis=0)"
   ]
  },
  {
   "cell_type": "markdown",
   "metadata": {},
   "source": [
    "### Note\n",
    "\n",
    "Age max = 89, I divide by 100, will set later max value to 100,\n",
    "\n",
    "TSH_Level max = 10, -> divide by 10 \n",
    "\n",
    "T3_Level max = 3.5 -> divide by 3.5\n",
    "\n",
    "T4_Level max = 12 -> divide by 12\n",
    "\n",
    "Nodule_Size max = 5 -> divide by 5\n"
   ]
  },
  {
   "cell_type": "code",
   "execution_count": 66,
   "metadata": {},
   "outputs": [],
   "source": [
    "import numpy as np\n",
    "\n",
    "X = df.values\n",
    "X = np.float32(X)\n",
    "y = np.float32(y)"
   ]
  },
  {
   "cell_type": "code",
   "execution_count": 67,
   "metadata": {},
   "outputs": [],
   "source": [
    "from sklearn.model_selection import train_test_split\n",
    "\n",
    "# Prepare data for prediction of diagnosis\n",
    "X_train, X_test, y_train, y_test = train_test_split(X, y, test_size=0.05, random_state=42, shuffle=True)"
   ]
  },
  {
   "cell_type": "markdown",
   "metadata": {},
   "source": [
    "### 2. Solving with decision Tree\n",
    "\n",
    "- 63.9% accuracy"
   ]
  },
  {
   "cell_type": "code",
   "execution_count": 68,
   "metadata": {},
   "outputs": [
    {
     "data": {
      "text/plain": [
       "0.6495918367346939"
      ]
     },
     "execution_count": 68,
     "metadata": {},
     "output_type": "execute_result"
    }
   ],
   "source": [
    "from sklearn.tree import DecisionTreeClassifier\n",
    "\n",
    "model = DecisionTreeClassifier(criterion=\"gini\", splitter=\"best\", max_depth=11)\n",
    "model.fit(X_train, y_train)\n",
    "model.score(X_test, y_test)"
   ]
  },
  {
   "cell_type": "markdown",
   "metadata": {},
   "source": [
    "### 3. Solving with neural network"
   ]
  },
  {
   "cell_type": "code",
   "execution_count": 69,
   "metadata": {},
   "outputs": [
    {
     "data": {
      "text/plain": [
       "ThyroidCancerModel(\n",
       "  (layers): Sequential(\n",
       "    (0): Linear(in_features=24, out_features=512, bias=True)\n",
       "    (1): Dropout(p=0.2, inplace=False)\n",
       "    (2): ReLU()\n",
       "    (3): Linear(in_features=512, out_features=16, bias=True)\n",
       "    (4): Dropout(p=0.2, inplace=False)\n",
       "    (5): ReLU()\n",
       "    (6): Linear(in_features=16, out_features=1, bias=True)\n",
       "  )\n",
       ")"
      ]
     },
     "execution_count": 69,
     "metadata": {},
     "output_type": "execute_result"
    }
   ],
   "source": [
    "import torch\n",
    "\n",
    "class ThyroidCancerModel(torch.nn.Module):\n",
    "    def __init__(self, *args, **kwargs):\n",
    "        super().__init__(*args, **kwargs)\n",
    "        \n",
    "        self.layers = torch.nn.Sequential(\n",
    "            torch.nn.Linear(in_features=24, out_features=512),\n",
    "            torch.nn.Dropout(p=0.2),\n",
    "            torch.nn.ReLU(),\n",
    "            torch.nn.Linear(in_features=512, out_features=16),\n",
    "            torch.nn.Dropout(p=0.2),\n",
    "            torch.nn.ReLU(),\n",
    "            torch.nn.Linear(in_features=16, out_features=1)\n",
    "        )\n",
    "        \n",
    "    def forward(self, x):\n",
    "        return self.layers(x)\n",
    "    \n",
    "model2 = ThyroidCancerModel()\n",
    "model2"
   ]
  },
  {
   "cell_type": "code",
   "execution_count": 70,
   "metadata": {},
   "outputs": [],
   "source": [
    "optimizer = torch.optim.Adam(params = model2.parameters(), lr= 0.0001)\n",
    "lossfn = torch.nn.BCEWithLogitsLoss()"
   ]
  },
  {
   "cell_type": "code",
   "execution_count": 71,
   "metadata": {},
   "outputs": [
    {
     "data": {
      "text/plain": [
       "tensor([[-0.1125],\n",
       "        [-0.1014],\n",
       "        [-0.1517],\n",
       "        ...,\n",
       "        [-0.0991],\n",
       "        [-0.1022],\n",
       "        [-0.1266]], device='cuda:0', grad_fn=<AddmmBackward0>)"
      ]
     },
     "execution_count": 71,
     "metadata": {},
     "output_type": "execute_result"
    }
   ],
   "source": [
    "# creating tensors\n",
    "\n",
    "X_train_t = torch.from_numpy(X_train).to(device=\"cuda\")\n",
    "X_test_t = torch.from_numpy(X_test).to(device=\"cuda\")\n",
    "\n",
    "y_train_t = torch.from_numpy(y_train).to(device=\"cuda\")\n",
    "y_train_t = torch.argmax(y_train_t, dim=1)\n",
    "y_train_t = y_train_t.unsqueeze(dim=1).float()\n",
    "\n",
    "y_test_t = torch.from_numpy(y_test).to(device=\"cuda\")\n",
    "y_test_t = torch.argmax(y_test_t, dim=1)\n",
    "y_test_t = y_test_t.unsqueeze(dim=1).float()\n",
    "\n",
    "model2 = model2.to(device=\"cuda\")\n",
    "\n",
    "model2(X_train_t)"
   ]
  },
  {
   "cell_type": "code",
   "execution_count": 72,
   "metadata": {},
   "outputs": [],
   "source": [
    "results = pd.DataFrame(columns=[\"epoch\", \"training_loss\", \"testing_loss\", \"test_accuracy\", \"test_precision\", \"test_recall\"])"
   ]
  },
  {
   "cell_type": "code",
   "execution_count": 73,
   "metadata": {},
   "outputs": [],
   "source": [
    "from torchmetrics import Accuracy\n",
    "from torchmetrics import Precision\n",
    "from torchmetrics import Recall\n",
    "\n",
    "accuracy = Accuracy(task=\"binary\").to(device=\"cuda\")\n",
    "precision = Precision(task=\"binary\").to(device=\"cuda\")\n",
    "recall = Recall(task=\"binary\").to(device=\"cuda\")"
   ]
  },
  {
   "cell_type": "code",
   "execution_count": 74,
   "metadata": {},
   "outputs": [
    {
     "name": "stdout",
     "output_type": "stream",
     "text": [
      "epoch:0 | loss: 0.6943337321281433 | test_loss: 0.693591296672821 | accuracy: 0.5026530623435974 | precision: 0.0 | recall:0.0\n",
      "epoch:100 | loss: 0.6641370058059692 | test_loss: 0.6630702614784241 | accuracy: 0.6310204267501831 | precision: 0.657960832118988 | recall:0.5375461578369141\n",
      "epoch:200 | loss: 0.6458232998847961 | test_loss: 0.6438403129577637 | accuracy: 0.631428599357605 | precision: 0.6637259721755981 | recall:0.5248256325721741\n",
      "epoch:300 | loss: 0.6317735314369202 | test_loss: 0.6283706426620483 | accuracy: 0.640816330909729 | precision: 0.685479462146759 | recall:0.5133360624313354\n",
      "epoch:400 | loss: 0.6216685175895691 | test_loss: 0.6172463893890381 | accuracy: 0.6499999761581421 | precision: 0.6856995820999146 | recall:0.5469840168952942\n",
      "epoch:500 | loss: 0.6183153390884399 | test_loss: 0.6121488213539124 | accuracy: 0.6587755084037781 | precision: 0.6936708688735962 | recall:0.5621665716171265\n",
      "epoch:600 | loss: 0.6161653399467468 | test_loss: 0.610205352306366 | accuracy: 0.6585714221000671 | precision: 0.6933198571205139 | recall:0.5621665716171265\n",
      "epoch:700 | loss: 0.6150726675987244 | test_loss: 0.6095212697982788 | accuracy: 0.6593877673149109 | precision: 0.6947261691093445 | recall:0.5621665716171265\n",
      "epoch:800 | loss: 0.6143577098846436 | test_loss: 0.6092326641082764 | accuracy: 0.6587755084037781 | precision: 0.6952526569366455 | recall:0.5588838458061218\n",
      "epoch:900 | loss: 0.6143954992294312 | test_loss: 0.6091481447219849 | accuracy: 0.6583673357963562 | precision: 0.695540726184845 | recall:0.5568321943283081\n",
      "epoch:1000 | loss: 0.6139281392097473 | test_loss: 0.6090827584266663 | accuracy: 0.6581632494926453 | precision: 0.6955851912498474 | recall:0.5560114979743958\n",
      "epoch:1100 | loss: 0.613988995552063 | test_loss: 0.6090454459190369 | accuracy: 0.6583673357963562 | precision: 0.696345865726471 | recall:0.5551908016204834\n",
      "epoch:1200 | loss: 0.6133702397346497 | test_loss: 0.6090368032455444 | accuracy: 0.6583673357963562 | precision: 0.6965481638908386 | recall:0.5547804832458496\n",
      "epoch:1300 | loss: 0.6136254668235779 | test_loss: 0.6090205311775208 | accuracy: 0.6581632494926453 | precision: 0.6965944170951843 | recall:0.5539597868919373\n",
      "epoch:1400 | loss: 0.6131004095077515 | test_loss: 0.6090332269668579 | accuracy: 0.658979594707489 | precision: 0.6978305578231812 | recall:0.554370105266571\n",
      "epoch:1500 | loss: 0.6132160425186157 | test_loss: 0.609041690826416 | accuracy: 0.6597959399223328 | precision: 0.6992753744125366 | recall:0.554370105266571\n",
      "epoch:1600 | loss: 0.6133374571800232 | test_loss: 0.6090940833091736 | accuracy: 0.658979594707489 | precision: 0.6994791626930237 | recall:0.5510873794555664\n",
      "epoch:1700 | loss: 0.6129725575447083 | test_loss: 0.609086275100708 | accuracy: 0.6595918536186218 | precision: 0.7001561522483826 | recall:0.5519080758094788\n",
      "epoch:1800 | loss: 0.6128693222999573 | test_loss: 0.6091343760490417 | accuracy: 0.6591836810112 | precision: 0.7000521421432495 | recall:0.5506770610809326\n",
      "epoch:1900 | loss: 0.6127316951751709 | test_loss: 0.6091765761375427 | accuracy: 0.6595918536186218 | precision: 0.7014143466949463 | recall:0.5494460463523865\n",
      "epoch:2000 | loss: 0.6119970083236694 | test_loss: 0.6091828942298889 | accuracy: 0.6591836810112 | precision: 0.7015239000320435 | recall:0.5478046536445618\n",
      "epoch:2100 | loss: 0.6121999621391296 | test_loss: 0.6092269420623779 | accuracy: 0.6587755084037781 | precision: 0.7005768418312073 | recall:0.5482150316238403\n",
      "epoch:2200 | loss: 0.6126434803009033 | test_loss: 0.609259843826294 | accuracy: 0.6595918536186218 | precision: 0.7016255855560303 | recall:0.5490357279777527\n",
      "epoch:2300 | loss: 0.6122111082077026 | test_loss: 0.609292209148407 | accuracy: 0.6597959399223328 | precision: 0.7030590772628784 | recall:0.5469840168952942\n",
      "epoch:2400 | loss: 0.6118626594543457 | test_loss: 0.6093668341636658 | accuracy: 0.6591836810112 | precision: 0.7021613121032715 | recall:0.5465736389160156\n",
      "epoch:2500 | loss: 0.6119093894958496 | test_loss: 0.6093930602073669 | accuracy: 0.6593877673149109 | precision: 0.702531635761261 | recall:0.5465736389160156\n",
      "epoch:2600 | loss: 0.6121242642402649 | test_loss: 0.6094234585762024 | accuracy: 0.6583673357963562 | precision: 0.7019587159156799 | recall:0.5441116094589233\n",
      "epoch:2700 | loss: 0.6116454005241394 | test_loss: 0.6094211935997009 | accuracy: 0.6585714221000671 | precision: 0.7031915187835693 | recall:0.5424702763557434\n",
      "epoch:2800 | loss: 0.6114581823348999 | test_loss: 0.6094452738761902 | accuracy: 0.6593877673149109 | precision: 0.7046908140182495 | recall:0.5424702763557434\n",
      "epoch:2900 | loss: 0.6112791299819946 | test_loss: 0.6095147132873535 | accuracy: 0.6591836810112 | precision: 0.7043154239654541 | recall:0.5424702763557434\n",
      "epoch:3000 | loss: 0.6113245487213135 | test_loss: 0.6095280647277832 | accuracy: 0.658979594707489 | precision: 0.7050321102142334 | recall:0.5404185652732849\n",
      "epoch:3100 | loss: 0.6113811731338501 | test_loss: 0.6095763444900513 | accuracy: 0.658979594707489 | precision: 0.7050321102142334 | recall:0.5404185652732849\n",
      "epoch:3200 | loss: 0.6117673516273499 | test_loss: 0.6095585823059082 | accuracy: 0.6583673357963562 | precision: 0.704119861125946 | recall:0.5400081872940063\n",
      "epoch:3300 | loss: 0.6109567284584045 | test_loss: 0.609602153301239 | accuracy: 0.6593877673149109 | precision: 0.7062298655509949 | recall:0.5395978689193726\n",
      "epoch:3400 | loss: 0.6105771660804749 | test_loss: 0.6095764636993408 | accuracy: 0.6587755084037781 | precision: 0.7053139805793762 | recall:0.5391875505447388\n",
      "epoch:3500 | loss: 0.6110628247261047 | test_loss: 0.6095693111419678 | accuracy: 0.6587755084037781 | precision: 0.7066450715065002 | recall:0.5367254614830017\n",
      "epoch:3600 | loss: 0.6107629537582397 | test_loss: 0.609579861164093 | accuracy: 0.6585714221000671 | precision: 0.7060409784317017 | recall:0.5371358394622803\n",
      "epoch:3700 | loss: 0.6112014651298523 | test_loss: 0.6096056699752808 | accuracy: 0.6579591631889343 | precision: 0.7064568400382996 | recall:0.5342634320259094\n",
      "epoch:3800 | loss: 0.6104082465171814 | test_loss: 0.6096618175506592 | accuracy: 0.6587755084037781 | precision: 0.7070925831794739 | recall:0.5359048247337341\n",
      "epoch:3900 | loss: 0.6109136939048767 | test_loss: 0.6096291542053223 | accuracy: 0.6581632494926453 | precision: 0.7061688303947449 | recall:0.5354944467544556\n",
      "epoch:4000 | loss: 0.6102349758148193 | test_loss: 0.6096648573875427 | accuracy: 0.6565306186676025 | precision: 0.7060109376907349 | recall:0.5301600098609924\n",
      "epoch:4100 | loss: 0.6102452874183655 | test_loss: 0.6096410155296326 | accuracy: 0.6587755084037781 | precision: 0.7084468603134155 | recall:0.5334427356719971\n",
      "epoch:4200 | loss: 0.6104488968849182 | test_loss: 0.6096725463867188 | accuracy: 0.6569387912750244 | precision: 0.7070098519325256 | recall:0.5297496914863586\n",
      "epoch:4300 | loss: 0.6105571985244751 | test_loss: 0.6096657514572144 | accuracy: 0.6581632494926453 | precision: 0.7088815569877625 | recall:0.530570387840271\n",
      "epoch:4400 | loss: 0.6100428104400635 | test_loss: 0.60970139503479 | accuracy: 0.6577550768852234 | precision: 0.7090209126472473 | recall:0.5289289951324463\n",
      "epoch:4500 | loss: 0.6105107069015503 | test_loss: 0.6097428202629089 | accuracy: 0.6569387912750244 | precision: 0.7088397741317749 | recall:0.526466965675354\n",
      "epoch:4600 | loss: 0.6094906330108643 | test_loss: 0.6098045706748962 | accuracy: 0.6579591631889343 | precision: 0.7089511156082153 | recall:0.5297496914863586\n",
      "epoch:4700 | loss: 0.6097586154937744 | test_loss: 0.6097937226295471 | accuracy: 0.6571428775787354 | precision: 0.7090005278587341 | recall:0.5268772840499878\n",
      "epoch:4800 | loss: 0.6102189421653748 | test_loss: 0.6098316311836243 | accuracy: 0.6581632494926453 | precision: 0.7114317417144775 | recall:0.5260566473007202\n",
      "epoch:4900 | loss: 0.6100589036941528 | test_loss: 0.6098707318305969 | accuracy: 0.6579591631889343 | precision: 0.7105699777603149 | recall:0.5268772840499878\n",
      "epoch:5000 | loss: 0.609473466873169 | test_loss: 0.6098732352256775 | accuracy: 0.6591836810112 | precision: 0.7122302055358887 | recall:0.5281083583831787\n",
      "epoch:5100 | loss: 0.6094589829444885 | test_loss: 0.6098369359970093 | accuracy: 0.6595918536186218 | precision: 0.7130193710327148 | recall:0.5281083583831787\n",
      "epoch:5200 | loss: 0.6101356744766235 | test_loss: 0.6098405718803406 | accuracy: 0.6602040529251099 | precision: 0.7151616215705872 | recall:0.526466965675354\n",
      "epoch:5300 | loss: 0.6094396114349365 | test_loss: 0.6098355054855347 | accuracy: 0.6600000262260437 | precision: 0.7162086367607117 | recall:0.5240049362182617\n",
      "epoch:5400 | loss: 0.6094831228256226 | test_loss: 0.60980623960495 | accuracy: 0.6604081392288208 | precision: 0.7162842750549316 | recall:0.5252359509468079\n",
      "epoch:5500 | loss: 0.6089087128639221 | test_loss: 0.609825074672699 | accuracy: 0.6597959399223328 | precision: 0.7150837779045105 | recall:0.5252359509468079\n",
      "epoch:5600 | loss: 0.609386146068573 | test_loss: 0.6098570823669434 | accuracy: 0.6591836810112 | precision: 0.7155705690383911 | recall:0.522363543510437\n",
      "epoch:5700 | loss: 0.6090486645698547 | test_loss: 0.6097801327705383 | accuracy: 0.6600000262260437 | precision: 0.7157247066497803 | recall:0.5248256325721741\n",
      "epoch:5800 | loss: 0.609568178653717 | test_loss: 0.6098523736000061 | accuracy: 0.6606122255325317 | precision: 0.7174157500267029 | recall:0.5240049362182617\n",
      "epoch:5900 | loss: 0.608698308467865 | test_loss: 0.609824001789093 | accuracy: 0.6597959399223328 | precision: 0.7165354490280151 | recall:0.5227739214897156\n",
      "epoch:6000 | loss: 0.6100659966468811 | test_loss: 0.6099228858947754 | accuracy: 0.6604081392288208 | precision: 0.7179921269416809 | recall:0.522363543510437\n",
      "epoch:6100 | loss: 0.6087015271186829 | test_loss: 0.6098138689994812 | accuracy: 0.6604081392288208 | precision: 0.7182382941246033 | recall:0.5219532251358032\n",
      "epoch:6200 | loss: 0.6087763905525208 | test_loss: 0.6098530292510986 | accuracy: 0.6606122255325317 | precision: 0.716928243637085 | recall:0.5248256325721741\n",
      "epoch:6300 | loss: 0.6091870069503784 | test_loss: 0.60988450050354 | accuracy: 0.6602040529251099 | precision: 0.7185730338096619 | recall:0.5207222104072571\n",
      "epoch:6400 | loss: 0.608648419380188 | test_loss: 0.6099022626876831 | accuracy: 0.6612244844436646 | precision: 0.7188732624053955 | recall:0.5235945582389832\n",
      "epoch:6500 | loss: 0.6089155673980713 | test_loss: 0.610023021697998 | accuracy: 0.6602040529251099 | precision: 0.7178329825401306 | recall:0.5219532251358032\n",
      "epoch:6600 | loss: 0.6082836389541626 | test_loss: 0.6099517941474915 | accuracy: 0.6604081392288208 | precision: 0.7187322974205017 | recall:0.5211325287818909\n",
      "epoch:6700 | loss: 0.6089338064193726 | test_loss: 0.6099727749824524 | accuracy: 0.6620408296585083 | precision: 0.7195053696632385 | recall:0.5252359509468079\n",
      "epoch:6800 | loss: 0.6091499328613281 | test_loss: 0.6099499464035034 | accuracy: 0.6614285707473755 | precision: 0.7215262055397034 | recall:0.5199015140533447\n",
      "epoch:6900 | loss: 0.6083245873451233 | test_loss: 0.6099449396133423 | accuracy: 0.6614285707473755 | precision: 0.7205215692520142 | recall:0.5215429067611694\n",
      "epoch:7000 | loss: 0.6084384918212891 | test_loss: 0.6100162863731384 | accuracy: 0.6620408296585083 | precision: 0.7207461595535278 | recall:0.5231842398643494\n",
      "epoch:7100 | loss: 0.607909619808197 | test_loss: 0.6100835204124451 | accuracy: 0.6610203981399536 | precision: 0.7199546694755554 | recall:0.5211325287818909\n",
      "epoch:7200 | loss: 0.6083913445472717 | test_loss: 0.610023021697998 | accuracy: 0.6606122255325317 | precision: 0.7206385135650635 | recall:0.5186704993247986\n",
      "epoch:7300 | loss: 0.6077656745910645 | test_loss: 0.6101348996162415 | accuracy: 0.6612244844436646 | precision: 0.7208641171455383 | recall:0.5203118324279785\n",
      "epoch:7400 | loss: 0.6080763339996338 | test_loss: 0.6101493835449219 | accuracy: 0.6602040529251099 | precision: 0.7213302850723267 | recall:0.5162084698677063\n",
      "epoch:7500 | loss: 0.6081611514091492 | test_loss: 0.6101096272468567 | accuracy: 0.6608163118362427 | precision: 0.7220630645751953 | recall:0.5170291066169739\n",
      "epoch:7600 | loss: 0.6075785756111145 | test_loss: 0.6101555228233337 | accuracy: 0.6620408296585083 | precision: 0.7227609753608704 | recall:0.5199015140533447\n",
      "epoch:7700 | loss: 0.607093334197998 | test_loss: 0.6101168990135193 | accuracy: 0.6606122255325317 | precision: 0.7221584320068359 | recall:0.5162084698677063\n",
      "epoch:7800 | loss: 0.6076697707176208 | test_loss: 0.6101790070533752 | accuracy: 0.6616326570510864 | precision: 0.7229536175727844 | recall:0.5182601809501648\n",
      "epoch:7900 | loss: 0.6069662570953369 | test_loss: 0.61019366979599 | accuracy: 0.6614285707473755 | precision: 0.7222856879234314 | recall:0.5186704993247986\n",
      "epoch:8000 | loss: 0.6079174280166626 | test_loss: 0.610291600227356 | accuracy: 0.6610203981399536 | precision: 0.7232450842857361 | recall:0.5157980918884277\n",
      "epoch:8100 | loss: 0.60769122838974 | test_loss: 0.6103456020355225 | accuracy: 0.6618367433547974 | precision: 0.7231121063232422 | recall:0.5186704993247986\n",
      "epoch:8200 | loss: 0.6076475381851196 | test_loss: 0.6102993488311768 | accuracy: 0.6608163118362427 | precision: 0.7228292226791382 | recall:0.5157980918884277\n",
      "epoch:8300 | loss: 0.6069605946540833 | test_loss: 0.6103216409683228 | accuracy: 0.6606122255325317 | precision: 0.7216494679450989 | recall:0.5170291066169739\n",
      "epoch:8400 | loss: 0.6072537302970886 | test_loss: 0.6103635430335999 | accuracy: 0.6612244844436646 | precision: 0.7226361036300659 | recall:0.5174394845962524\n",
      "epoch:8500 | loss: 0.6073440313339233 | test_loss: 0.6103524565696716 | accuracy: 0.6606122255325317 | precision: 0.7219036817550659 | recall:0.5166187882423401\n",
      "epoch:8600 | loss: 0.6072078347206116 | test_loss: 0.6103969216346741 | accuracy: 0.6610203981399536 | precision: 0.7235022783279419 | recall:0.515387773513794\n",
      "epoch:8700 | loss: 0.606959879398346 | test_loss: 0.6105039715766907 | accuracy: 0.6608163118362427 | precision: 0.7228292226791382 | recall:0.5157980918884277\n",
      "epoch:8800 | loss: 0.607108473777771 | test_loss: 0.6104861497879028 | accuracy: 0.6612244844436646 | precision: 0.723661482334137 | recall:0.5157980918884277\n",
      "epoch:8900 | loss: 0.6073628664016724 | test_loss: 0.6104874610900879 | accuracy: 0.6610203981399536 | precision: 0.722988486289978 | recall:0.5162084698677063\n",
      "epoch:9000 | loss: 0.6068133115768433 | test_loss: 0.6104865670204163 | accuracy: 0.6612244844436646 | precision: 0.7239193320274353 | recall:0.515387773513794\n",
      "epoch:9100 | loss: 0.6070576310157776 | test_loss: 0.6105958819389343 | accuracy: 0.6610203981399536 | precision: 0.722988486289978 | recall:0.5162084698677063\n",
      "epoch:9200 | loss: 0.6066620349884033 | test_loss: 0.6105988621711731 | accuracy: 0.6604081392288208 | precision: 0.7235395908355713 | recall:0.5133360624313354\n",
      "epoch:9300 | loss: 0.606524646282196 | test_loss: 0.6106728911399841 | accuracy: 0.6602040529251099 | precision: 0.7228637337684631 | recall:0.5137463808059692\n",
      "epoch:9400 | loss: 0.6069864630699158 | test_loss: 0.6106489300727844 | accuracy: 0.6606122255325317 | precision: 0.7234411239624023 | recall:0.5141567587852478\n",
      "epoch:9500 | loss: 0.6066283583641052 | test_loss: 0.6107298731803894 | accuracy: 0.6610203981399536 | precision: 0.7235022783279419 | recall:0.515387773513794\n",
      "epoch:9600 | loss: 0.6065820455551147 | test_loss: 0.6107868552207947 | accuracy: 0.6616326570510864 | precision: 0.7239792943000793 | recall:0.5166187882423401\n",
      "epoch:9700 | loss: 0.6062225103378296 | test_loss: 0.6107959151268005 | accuracy: 0.6612244844436646 | precision: 0.7231476306915283 | recall:0.5166187882423401\n",
      "epoch:9800 | loss: 0.6060084104537964 | test_loss: 0.6108667254447937 | accuracy: 0.6616326570510864 | precision: 0.7255356311798096 | recall:0.5141567587852478\n",
      "epoch:9900 | loss: 0.6066523194313049 | test_loss: 0.6108944416046143 | accuracy: 0.6624490022659302 | precision: 0.7253885865211487 | recall:0.5170291066169739\n",
      "epoch:10000 | loss: 0.6065034866333008 | test_loss: 0.6108863949775696 | accuracy: 0.6616326570510864 | precision: 0.7244956493377686 | recall:0.5157980918884277\n"
     ]
    }
   ],
   "source": [
    "\n",
    "\n",
    "epochs = 10001\n",
    "\n",
    "for epoch in range(epochs):\n",
    "    model2.train()\n",
    "    logits = model2(X_train_t)\n",
    "    loss = lossfn(logits, y_train_t)\n",
    "    optimizer.zero_grad()\n",
    "    loss.backward()\n",
    "    optimizer.step()\n",
    "    \n",
    "    if epoch % 100 == 0:\n",
    "        model2.eval()\n",
    "        with torch.inference_mode():\n",
    "            test_logits = model2(X_test_t)\n",
    "            test_loss = lossfn(test_logits, y_test_t)\n",
    "            \n",
    "            res = torch.sigmoid(test_logits)\n",
    "            res = (res > 0.5).int()\n",
    "            \n",
    "            ac = accuracy(res, y_test_t)\n",
    "            pc = precision(res, y_test_t)\n",
    "            rc = recall(res, y_test_t)\n",
    "            \n",
    "            results.loc[len(results)] = [epoch, loss.item(), test_loss.item(), ac.item(), pc.item(), rc.item()]\n",
    "            \n",
    "            print(F\"epoch:{epoch} | loss: {loss.item()} | test_loss: {test_loss.item()} | accuracy: {ac.item()} | precision: {pc.item()} | recall:{rc.item()}\")\n",
    "            \n",
    "        "
   ]
  },
  {
   "cell_type": "code",
   "execution_count": 79,
   "metadata": {},
   "outputs": [
    {
     "data": {
      "image/png": "[encoded data removed]",
      "text/plain": [
       "<Figure size 640x480 with 1 Axes>"
      ]
     },
     "metadata": {},
     "output_type": "display_data"
    }
   ],
   "source": [
    "import matplotlib.pyplot as plt\n",
    "\n",
    "\n",
    "plt.scatter(y=results[\"test_accuracy\"].values, x=results[\"epoch\"].values)\n",
    "plt.show()"
   ]
  }
 ],
 "metadata": {
  "kernelspec": {
   "display_name": ".venv",
   "language": "python",
   "name": "python3"
  },
  "language_info": {
   "codemirror_mode": {
    "name": "ipython",
    "version": 3
   },
   "file_extension": ".py",
   "mimetype": "text/x-python",
   "name": "python",
   "nbconvert_exporter": "python",
   "pygments_lexer": "ipython3",
   "version": "3.12.3"
  }
 },
 "nbformat": 4,
 "nbformat_minor": 2
}
