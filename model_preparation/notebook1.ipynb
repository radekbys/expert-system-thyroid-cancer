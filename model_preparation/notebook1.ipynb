{
 "cells": [
  {
   "cell_type": "markdown",
   "metadata": {},
   "source": [
    "### 0. Download dataset and save it in the project location"
   ]
  },
  {
   "cell_type": "code",
   "execution_count": 2,
   "metadata": {},
   "outputs": [],
   "source": [
    "# import kagglehub\n",
    "\n",
    "# # Download latest version\n",
    "# path = kagglehub.dataset_download(\"bhargavchirumamilla/thyroid-cancer-risk-dataset\")\n",
    "\n",
    "# print(\"Path to dataset files:\", path)"
   ]
  },
  {
   "cell_type": "code",
   "execution_count": 3,
   "metadata": {},
   "outputs": [],
   "source": [
    "# import os\n",
    "\n",
    "# os.rename(path, \"./download\")"
   ]
  },
  {
   "cell_type": "markdown",
   "metadata": {},
   "source": [
    "###  1. Prepare data for training"
   ]
  },
  {
   "cell_type": "code",
   "execution_count": 4,
   "metadata": {},
   "outputs": [],
   "source": [
    "import pandas as pd\n",
    "\n",
    "df = pd.read_csv(\"./download/thyroid_cancer_risk_data.csv\")\n",
    "df.dropna()\n",
    "df = df.drop(\"Country\", axis=1)\n",
    "df = pd.get_dummies(df, columns=[\"Gender\", \"Ethnicity\", \"Smoking\", \"Obesity\", \"Diabetes\", \"Family_History\", \"Radiation_Exposure\", \"Iodine_Deficiency\"] , dtype=float)\n",
    "\n"
   ]
  },
  {
   "cell_type": "code",
   "execution_count": 5,
   "metadata": {},
   "outputs": [],
   "source": [
    "# Creating a balanced dataset\n",
    "\n",
    "df_benign = df[df[\"Diagnosis\"] == \"Benign\"]\n",
    "df_benign =df_benign.sample(frac=1, random_state=42).reset_index(drop=True)\n",
    "\n",
    "df_malignant = df[df[\"Diagnosis\"]==\"Malignant\"]\n",
    "df_malignant = df_malignant.sample(frac=1, random_state=42).reset_index(drop=True)\n",
    "\n",
    "df = df_benign[:49000]\n",
    "df = pd.concat((df, df_malignant[:49000]), axis=0)\n",
    "df = df.sample(frac=1, random_state=42).reset_index(drop=True)"
   ]
  },
  {
   "cell_type": "code",
   "execution_count": 6,
   "metadata": {},
   "outputs": [
    {
     "data": {
      "text/plain": [
       "(98000, 2)"
      ]
     },
     "execution_count": 6,
     "metadata": {},
     "output_type": "execute_result"
    }
   ],
   "source": [
    "y_risk = df[\"Thyroid_Cancer_Risk\"]\n",
    "y_risk = pd.get_dummies(y_risk)\n",
    "y_diagnosis = df[\"Diagnosis\"]\n",
    "y_diagnosis = pd.get_dummies(y_diagnosis, dtype=float)\n",
    "\n",
    "\n",
    "df = df.drop([\"Thyroid_Cancer_Risk\", \"Diagnosis\", \"Patient_ID\"], axis=1)\n",
    "\n",
    "y = y_diagnosis.values\n",
    "y.shape"
   ]
  },
  {
   "cell_type": "code",
   "execution_count": 7,
   "metadata": {},
   "outputs": [
    {
     "data": {
      "text/plain": [
       "Age                         0.89\n",
       "TSH_Level                   1.00\n",
       "T3_Level                    1.00\n",
       "T4_Level                    1.00\n",
       "Nodule_Size                 1.00\n",
       "Gender_Female               1.00\n",
       "Gender_Male                 1.00\n",
       "Ethnicity_African           1.00\n",
       "Ethnicity_Asian             1.00\n",
       "Ethnicity_Caucasian         1.00\n",
       "Ethnicity_Hispanic          1.00\n",
       "Ethnicity_Middle Eastern    1.00\n",
       "Smoking_No                  1.00\n",
       "Smoking_Yes                 1.00\n",
       "Obesity_No                  1.00\n",
       "Obesity_Yes                 1.00\n",
       "Diabetes_No                 1.00\n",
       "Diabetes_Yes                1.00\n",
       "Family_History_No           1.00\n",
       "Family_History_Yes          1.00\n",
       "Radiation_Exposure_No       1.00\n",
       "Radiation_Exposure_Yes      1.00\n",
       "Iodine_Deficiency_No        1.00\n",
       "Iodine_Deficiency_Yes       1.00\n",
       "dtype: float64"
      ]
     },
     "execution_count": 7,
     "metadata": {},
     "output_type": "execute_result"
    }
   ],
   "source": [
    "df[\"Age\"] = df[\"Age\"]/100\n",
    "df[\"TSH_Level\"] = df[\"TSH_Level\"]/10\n",
    "df[\"T3_Level\"] = df[\"T3_Level\"]/3.5\n",
    "df[\"T4_Level\"] = df[\"T4_Level\"]/12\n",
    "df[\"Nodule_Size\"] = df[\"Nodule_Size\"]/5\n",
    "\n",
    "df.max(axis=0)"
   ]
  },
  {
   "cell_type": "markdown",
   "metadata": {},
   "source": [
    "### Note\n",
    "\n",
    "Age max = 89, I divide by 100, will set later max value to 100,\n",
    "\n",
    "TSH_Level max = 10, -> divide by 10 \n",
    "\n",
    "T3_Level max = 3.5 -> divide by 3.5\n",
    "\n",
    "T4_Level max = 12 -> divide by 12\n",
    "\n",
    "Nodule_Size max = 5 -> divide by 5\n"
   ]
  },
  {
   "cell_type": "code",
   "execution_count": 8,
   "metadata": {},
   "outputs": [],
   "source": [
    "import numpy as np\n",
    "\n",
    "X = df.values\n",
    "X = np.float32(X)\n",
    "y = np.float32(y)"
   ]
  },
  {
   "cell_type": "code",
   "execution_count": 9,
   "metadata": {},
   "outputs": [],
   "source": [
    "from sklearn.model_selection import train_test_split\n",
    "\n",
    "# Prepare data for prediction of diagnosis\n",
    "X_train, X_test, y_train, y_test = train_test_split(X, y, test_size=0.05, random_state=42, shuffle=True)"
   ]
  },
  {
   "cell_type": "markdown",
   "metadata": {},
   "source": [
    "### 2. Solving with decision Tree\n",
    "\n",
    "- 63.9% accuracy"
   ]
  },
  {
   "cell_type": "code",
   "execution_count": 10,
   "metadata": {},
   "outputs": [
    {
     "data": {
      "text/plain": [
       "0.6514285714285715"
      ]
     },
     "execution_count": 10,
     "metadata": {},
     "output_type": "execute_result"
    }
   ],
   "source": [
    "from sklearn.tree import DecisionTreeClassifier\n",
    "\n",
    "model = DecisionTreeClassifier(criterion=\"gini\", splitter=\"best\", max_depth=10)\n",
    "model.fit(X_train, y_train)\n",
    "model.score(X_test, y_test)"
   ]
  },
  {
   "cell_type": "code",
   "execution_count": 11,
   "metadata": {},
   "outputs": [
    {
     "name": "stdout",
     "output_type": "stream",
     "text": [
      "Index(['Age', 'TSH_Level', 'T3_Level', 'T4_Level', 'Nodule_Size',\n",
      "       'Gender_Female', 'Gender_Male', 'Ethnicity_African', 'Ethnicity_Asian',\n",
      "       'Ethnicity_Caucasian', 'Ethnicity_Hispanic', 'Ethnicity_Middle Eastern',\n",
      "       'Smoking_No', 'Smoking_Yes', 'Obesity_No', 'Obesity_Yes', 'Diabetes_No',\n",
      "       'Diabetes_Yes', 'Family_History_No', 'Family_History_Yes',\n",
      "       'Radiation_Exposure_No', 'Radiation_Exposure_Yes',\n",
      "       'Iodine_Deficiency_No', 'Iodine_Deficiency_Yes'],\n",
      "      dtype='object')\n",
      "[0.67       0.594      0.26285714 0.5391667  0.212      0.\n",
      " 1.         1.         0.         0.         0.         0.\n",
      " 1.         0.         1.         0.         1.         0.\n",
      " 1.         0.         1.         0.         1.         0.        ]\n"
     ]
    }
   ],
   "source": [
    "print(df.columns)\n",
    "print(X_train[0])"
   ]
  },
  {
   "cell_type": "markdown",
   "metadata": {},
   "source": [
    "### 2.1 Exporting decision tree to onnx"
   ]
  },
  {
   "cell_type": "code",
   "execution_count": 12,
   "metadata": {},
   "outputs": [],
   "source": [
    "# # Convert into ONNX format.\n",
    "# from skl2onnx import to_onnx\n",
    "\n",
    "# onx = to_onnx(model, X[:1])\n",
    "# with open(\"decision_tree_thyroid_cancer_prediction.onnx\", \"wb\") as f:\n",
    "#     f.write(onx.SerializeToString())"
   ]
  },
  {
   "cell_type": "markdown",
   "metadata": {},
   "source": [
    "### 3. Solving with neural network"
   ]
  },
  {
   "cell_type": "code",
   "execution_count": 13,
   "metadata": {},
   "outputs": [
    {
     "data": {
      "text/plain": [
       "ThyroidCancerModel(\n",
       "  (layers): Sequential(\n",
       "    (0): Linear(in_features=24, out_features=512, bias=True)\n",
       "    (1): Dropout(p=0.2, inplace=False)\n",
       "    (2): ReLU()\n",
       "    (3): Linear(in_features=512, out_features=16, bias=True)\n",
       "    (4): Dropout(p=0.2, inplace=False)\n",
       "    (5): ReLU()\n",
       "    (6): Linear(in_features=16, out_features=1, bias=True)\n",
       "  )\n",
       ")"
      ]
     },
     "execution_count": 13,
     "metadata": {},
     "output_type": "execute_result"
    }
   ],
   "source": [
    "import torch\n",
    "\n",
    "class ThyroidCancerModel(torch.nn.Module):\n",
    "    def __init__(self, *args, **kwargs):\n",
    "        super().__init__(*args, **kwargs)\n",
    "        \n",
    "        self.layers = torch.nn.Sequential(\n",
    "            torch.nn.Linear(in_features=24, out_features=512),\n",
    "            torch.nn.Dropout(p=0.2),\n",
    "            torch.nn.ReLU(),\n",
    "            torch.nn.Linear(in_features=512, out_features=16),\n",
    "            torch.nn.Dropout(p=0.2),\n",
    "            torch.nn.ReLU(),\n",
    "            torch.nn.Linear(in_features=16, out_features=1)\n",
    "        )\n",
    "        \n",
    "    def forward(self, x):\n",
    "        return self.layers(x)\n",
    "    \n",
    "model2 = ThyroidCancerModel()\n",
    "model2"
   ]
  },
  {
   "cell_type": "code",
   "execution_count": 14,
   "metadata": {},
   "outputs": [],
   "source": [
    "optimizer = torch.optim.Adam(params = model2.parameters(), lr= 0.0001)\n",
    "lossfn = torch.nn.BCEWithLogitsLoss()"
   ]
  },
  {
   "cell_type": "code",
   "execution_count": 15,
   "metadata": {},
   "outputs": [
    {
     "data": {
      "text/plain": [
       "tensor([0.0227], device='cuda:0', grad_fn=<ViewBackward0>)"
      ]
     },
     "execution_count": 15,
     "metadata": {},
     "output_type": "execute_result"
    }
   ],
   "source": [
    "# creating tensors\n",
    "\n",
    "X_train_t = torch.from_numpy(X_train).to(device=\"cuda\")\n",
    "X_test_t = torch.from_numpy(X_test).to(device=\"cuda\")\n",
    "\n",
    "y_train_t = torch.from_numpy(y_train).to(device=\"cuda\")\n",
    "y_train_t = torch.argmax(y_train_t, dim=1)\n",
    "y_train_t = y_train_t.unsqueeze(dim=1).float()\n",
    "\n",
    "y_test_t = torch.from_numpy(y_test).to(device=\"cuda\")\n",
    "y_test_t = torch.argmax(y_test_t, dim=1)\n",
    "y_test_t = y_test_t.unsqueeze(dim=1).float()\n",
    "\n",
    "model2 = model2.to(device=\"cuda\")\n",
    "\n",
    "model2(X_train_t[0])"
   ]
  },
  {
   "cell_type": "code",
   "execution_count": 16,
   "metadata": {},
   "outputs": [],
   "source": [
    "results = pd.DataFrame(columns=[\"epoch\", \"training_loss\", \"testing_loss\", \"test_accuracy\", \"test_precision\", \"test_recall\"])"
   ]
  },
  {
   "cell_type": "code",
   "execution_count": 17,
   "metadata": {},
   "outputs": [],
   "source": [
    "from torchmetrics import Accuracy\n",
    "from torchmetrics import Precision\n",
    "from torchmetrics import Recall\n",
    "\n",
    "accuracy = Accuracy(task=\"binary\").to(device=\"cuda\")\n",
    "precision = Precision(task=\"binary\").to(device=\"cuda\")\n",
    "recall = Recall(task=\"binary\").to(device=\"cuda\")"
   ]
  },
  {
   "cell_type": "code",
   "execution_count": 18,
   "metadata": {},
   "outputs": [
    {
     "name": "stdout",
     "output_type": "stream",
     "text": [
      "epoch:0 | loss: 0.6932641267776489 | test_loss: 0.693109929561615 | accuracy: 0.5030612349510193 | precision: 0.5011792182922363 | recall:0.17439474165439606\n",
      "epoch:100 | loss: 0.6633322238922119 | test_loss: 0.6629506945610046 | accuracy: 0.6248979568481445 | precision: 0.6420104503631592 | recall:0.5556011199951172\n",
      "epoch:200 | loss: 0.6427003741264343 | test_loss: 0.6411512494087219 | accuracy: 0.631428599357605 | precision: 0.6637259721755981 | recall:0.5248256325721741\n",
      "epoch:300 | loss: 0.628288984298706 | test_loss: 0.6255869269371033 | accuracy: 0.6383673548698425 | precision: 0.6804123520851135 | recall:0.5145670771598816\n",
      "epoch:400 | loss: 0.6192906498908997 | test_loss: 0.6151055693626404 | accuracy: 0.6530612111091614 | precision: 0.6946645379066467 | recall:0.5395978689193726\n",
      "epoch:500 | loss: 0.6159019470214844 | test_loss: 0.6113071441650391 | accuracy: 0.6587755084037781 | precision: 0.6932794451713562 | recall:0.5629872679710388\n",
      "epoch:600 | loss: 0.6151626706123352 | test_loss: 0.6101360321044922 | accuracy: 0.6610203981399536 | precision: 0.6943888068199158 | recall:0.5687320232391357\n",
      "epoch:700 | loss: 0.6146179437637329 | test_loss: 0.6096819043159485 | accuracy: 0.6614285707473755 | precision: 0.6948897838592529 | recall:0.5691424012184143\n",
      "epoch:800 | loss: 0.614366352558136 | test_loss: 0.6095350980758667 | accuracy: 0.6614285707473755 | precision: 0.6962664127349854 | recall:0.5662699937820435\n",
      "epoch:900 | loss: 0.6141437292098999 | test_loss: 0.6094923615455627 | accuracy: 0.6606122255325317 | precision: 0.6962474584579468 | recall:0.5633976459503174\n",
      "epoch:1000 | loss: 0.6137640476226807 | test_loss: 0.6094207167625427 | accuracy: 0.6593877673149109 | precision: 0.6959183812141418 | recall:0.5597045421600342\n",
      "epoch:1100 | loss: 0.6134353280067444 | test_loss: 0.6094021797180176 | accuracy: 0.658979594707489 | precision: 0.6962090134620667 | recall:0.5576528310775757\n",
      "epoch:1200 | loss: 0.6136005520820618 | test_loss: 0.6093818545341492 | accuracy: 0.6587755084037781 | precision: 0.6964560747146606 | recall:0.5564218163490295\n",
      "epoch:1300 | loss: 0.613431453704834 | test_loss: 0.6093327403068542 | accuracy: 0.6591836810112 | precision: 0.6977823376655579 | recall:0.5551908016204834\n",
      "epoch:1400 | loss: 0.6132844686508179 | test_loss: 0.6093297600746155 | accuracy: 0.6595918536186218 | precision: 0.6989136338233948 | recall:0.554370105266571\n",
      "epoch:1500 | loss: 0.613158643245697 | test_loss: 0.6093387007713318 | accuracy: 0.6597959399223328 | precision: 0.7001039385795593 | recall:0.5527287721633911\n",
      "epoch:1600 | loss: 0.6130000948905945 | test_loss: 0.6093372106552124 | accuracy: 0.6597959399223328 | precision: 0.7005208134651184 | recall:0.5519080758094788\n",
      "epoch:1700 | loss: 0.6128376722335815 | test_loss: 0.6093433499336243 | accuracy: 0.6600000262260437 | precision: 0.701095461845398 | recall:0.551497757434845\n",
      "epoch:1800 | loss: 0.6127110123634338 | test_loss: 0.6093366742134094 | accuracy: 0.6597959399223328 | precision: 0.7013598084449768 | recall:0.5502667427062988\n",
      "epoch:1900 | loss: 0.6127657890319824 | test_loss: 0.6093772053718567 | accuracy: 0.658979594707489 | precision: 0.7017913460731506 | recall:0.5465736389160156\n",
      "epoch:2000 | loss: 0.6128156781196594 | test_loss: 0.6093366742134094 | accuracy: 0.6587755084037781 | precision: 0.7020602226257324 | recall:0.5453426241874695\n"
     ]
    }
   ],
   "source": [
    "\n",
    "\n",
    "epochs = 2001\n",
    "\n",
    "for epoch in range(epochs):\n",
    "    model2.train()\n",
    "    logits = model2(X_train_t)\n",
    "    loss = lossfn(logits, y_train_t)\n",
    "    optimizer.zero_grad()\n",
    "    loss.backward()\n",
    "    optimizer.step()\n",
    "    \n",
    "    if epoch % 100 == 0:\n",
    "        model2.eval()\n",
    "        with torch.inference_mode():\n",
    "            test_logits = model2(X_test_t)\n",
    "            test_loss = lossfn(test_logits, y_test_t)\n",
    "            \n",
    "            res = torch.sigmoid(test_logits)\n",
    "            res = (res > 0.5).int()\n",
    "            \n",
    "            ac = accuracy(res, y_test_t)\n",
    "            pc = precision(res, y_test_t)\n",
    "            rc = recall(res, y_test_t)\n",
    "            \n",
    "            results.loc[len(results)] = [epoch, loss.item(), test_loss.item(), ac.item(), pc.item(), rc.item()]\n",
    "            \n",
    "            print(F\"epoch:{epoch} | loss: {loss.item()} | test_loss: {test_loss.item()} | accuracy: {ac.item()} | precision: {pc.item()} | recall:{rc.item()}\")\n",
    "            \n",
    "        "
   ]
  },
  {
   "cell_type": "code",
   "execution_count": 19,
   "metadata": {},
   "outputs": [
    {
     "data": {
      "image/png": "[encoded data removed]",
      "text/plain": [
       "<Figure size 640x480 with 1 Axes>"
      ]
     },
     "metadata": {},
     "output_type": "display_data"
    }
   ],
   "source": [
    "import matplotlib.pyplot as plt\n",
    "\n",
    "\n",
    "plt.scatter(y=results[\"test_accuracy\"].values, x=results[\"epoch\"].values)\n",
    "plt.show()"
   ]
  },
  {
   "cell_type": "code",
   "execution_count": 23,
   "metadata": {},
   "outputs": [
    {
     "name": "stderr",
     "output_type": "stream",
     "text": [
      "/home/radekbys/Code/expert-system-thyroid-cancer/.venv/lib/python3.12/site-packages/onnxscript/converter.py:816: FutureWarning: 'onnxscript.values.Op.param_schemas' is deprecated in version 0.1 and will be removed in the future. Please use '.op_signature' instead.\n",
      "  param_schemas = callee.param_schemas()\n",
      "/home/radekbys/Code/expert-system-thyroid-cancer/.venv/lib/python3.12/site-packages/onnxscript/converter.py:816: FutureWarning: 'onnxscript.values.OnnxFunction.param_schemas' is deprecated in version 0.1 and will be removed in the future. Please use '.op_signature' instead.\n",
      "  param_schemas = callee.param_schemas()\n"
     ]
    },
    {
     "name": "stdout",
     "output_type": "stream",
     "text": [
      "[torch.onnx] Obtain model graph for `ThyroidCancerModel([...]` with `torch.export.export(..., strict=False)`...\n",
      "[torch.onnx] Obtain model graph for `ThyroidCancerModel([...]` with `torch.export.export(..., strict=False)`... ✅\n",
      "[torch.onnx] Run decomposition...\n",
      "[torch.onnx] Run decomposition... ✅\n",
      "[torch.onnx] Translate the graph into ONNX...\n",
      "[torch.onnx] Translate the graph into ONNX... ✅\n"
     ]
    }
   ],
   "source": [
    "import torch\n",
    "onnx_program = torch.onnx.export(model2, X_train_t[0], dynamo=True)"
   ]
  },
  {
   "cell_type": "code",
   "execution_count": 24,
   "metadata": {},
   "outputs": [],
   "source": [
    "onnx_program.optimize()"
   ]
  },
  {
   "cell_type": "code",
   "execution_count": 25,
   "metadata": {},
   "outputs": [],
   "source": [
    "onnx_program.save(\"nn_model.onnx\")"
   ]
  }
 ],
 "metadata": {
  "kernelspec": {
   "display_name": ".venv",
   "language": "python",
   "name": "python3"
  },
  "language_info": {
   "codemirror_mode": {
    "name": "ipython",
    "version": 3
   },
   "file_extension": ".py",
   "mimetype": "text/x-python",
   "name": "python",
   "nbconvert_exporter": "python",
   "pygments_lexer": "ipython3",
   "version": "3.12.3"
  }
 },
 "nbformat": 4,
 "nbformat_minor": 2
}
