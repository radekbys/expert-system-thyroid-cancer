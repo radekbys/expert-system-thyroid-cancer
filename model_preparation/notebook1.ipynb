{
 "cells": [
  {
   "cell_type": "markdown",
   "metadata": {},
   "source": [
    "### 0. Download dataset and save it in the project location"
   ]
  },
  {
   "cell_type": "code",
   "execution_count": null,
   "metadata": {},
   "outputs": [],
   "source": [
    "# import kagglehub\n",
    "\n",
    "# # Download latest version\n",
    "# path = kagglehub.dataset_download(\"bhargavchirumamilla/thyroid-cancer-risk-dataset\")\n",
    "\n",
    "# print(\"Path to dataset files:\", path)"
   ]
  },
  {
   "cell_type": "code",
   "execution_count": 1,
   "metadata": {},
   "outputs": [],
   "source": [
    "# import os\n",
    "\n",
    "# os.rename(path, \"./download\")"
   ]
  },
  {
   "cell_type": "markdown",
   "metadata": {},
   "source": [
    "###  1. Prepare data for training"
   ]
  },
  {
   "cell_type": "code",
   "execution_count": 2,
   "metadata": {},
   "outputs": [],
   "source": [
    "import pandas as pd\n",
    "\n",
    "df = pd.read_csv(\"./download/thyroid_cancer_risk_data.csv\")\n",
    "df.dropna()\n",
    "df = df.drop(\"Country\", axis=1)\n",
    "df = pd.get_dummies(df, columns=[\"Gender\", \"Ethnicity\", \"Smoking\", \"Obesity\", \"Diabetes\", \"Family_History\", \"Radiation_Exposure\", \"Iodine_Deficiency\"] , dtype=float)\n",
    "\n"
   ]
  },
  {
   "cell_type": "code",
   "execution_count": 3,
   "metadata": {},
   "outputs": [],
   "source": [
    "# Creating a balanced dataset\n",
    "\n",
    "df_benign = df[df[\"Diagnosis\"] == \"Benign\"]\n",
    "df_benign =df_benign.sample(frac=1, random_state=42).reset_index(drop=True)\n",
    "\n",
    "df_malignant = df[df[\"Diagnosis\"]==\"Malignant\"]\n",
    "df_malignant = df_malignant.sample(frac=1, random_state=42).reset_index(drop=True)\n",
    "\n",
    "df = df_benign[:49000]\n",
    "df = pd.concat((df, df_malignant[:49000]), axis=0)\n",
    "df = df.sample(frac=1, random_state=42).reset_index(drop=True)"
   ]
  },
  {
   "cell_type": "code",
   "execution_count": 4,
   "metadata": {},
   "outputs": [
    {
     "data": {
      "text/plain": [
       "(98000, 2)"
      ]
     },
     "execution_count": 4,
     "metadata": {},
     "output_type": "execute_result"
    }
   ],
   "source": [
    "y_risk = df[\"Thyroid_Cancer_Risk\"]\n",
    "y_risk = pd.get_dummies(y_risk)\n",
    "y_diagnosis = df[\"Diagnosis\"]\n",
    "y_diagnosis = pd.get_dummies(y_diagnosis, dtype=float)\n",
    "\n",
    "\n",
    "df = df.drop([\"Thyroid_Cancer_Risk\", \"Diagnosis\", \"Patient_ID\"], axis=1)\n",
    "\n",
    "y = y_diagnosis.values\n",
    "y.shape"
   ]
  },
  {
   "cell_type": "code",
   "execution_count": 5,
   "metadata": {},
   "outputs": [
    {
     "data": {
      "text/plain": [
       "Age                         0.89\n",
       "TSH_Level                   1.00\n",
       "T3_Level                    1.00\n",
       "T4_Level                    1.00\n",
       "Nodule_Size                 1.00\n",
       "Gender_Female               1.00\n",
       "Gender_Male                 1.00\n",
       "Ethnicity_African           1.00\n",
       "Ethnicity_Asian             1.00\n",
       "Ethnicity_Caucasian         1.00\n",
       "Ethnicity_Hispanic          1.00\n",
       "Ethnicity_Middle Eastern    1.00\n",
       "Smoking_No                  1.00\n",
       "Smoking_Yes                 1.00\n",
       "Obesity_No                  1.00\n",
       "Obesity_Yes                 1.00\n",
       "Diabetes_No                 1.00\n",
       "Diabetes_Yes                1.00\n",
       "Family_History_No           1.00\n",
       "Family_History_Yes          1.00\n",
       "Radiation_Exposure_No       1.00\n",
       "Radiation_Exposure_Yes      1.00\n",
       "Iodine_Deficiency_No        1.00\n",
       "Iodine_Deficiency_Yes       1.00\n",
       "dtype: float64"
      ]
     },
     "execution_count": 5,
     "metadata": {},
     "output_type": "execute_result"
    }
   ],
   "source": [
    "df[\"Age\"] = df[\"Age\"]/100\n",
    "df[\"TSH_Level\"] = df[\"TSH_Level\"]/10\n",
    "df[\"T3_Level\"] = df[\"T3_Level\"]/3.5\n",
    "df[\"T4_Level\"] = df[\"T4_Level\"]/12\n",
    "df[\"Nodule_Size\"] = df[\"Nodule_Size\"]/5\n",
    "\n",
    "df.max(axis=0)"
   ]
  },
  {
   "cell_type": "markdown",
   "metadata": {},
   "source": [
    "### Note\n",
    "\n",
    "Age max = 89, I divide by 100, will set later max value to 100,\n",
    "\n",
    "TSH_Level max = 10, -> divide by 10 \n",
    "\n",
    "T3_Level max = 3.5 -> divide by 3.5\n",
    "\n",
    "T4_Level max = 12 -> divide by 12\n",
    "\n",
    "Nodule_Size max = 5 -> divide by 5\n"
   ]
  },
  {
   "cell_type": "code",
   "execution_count": 6,
   "metadata": {},
   "outputs": [],
   "source": [
    "import numpy as np\n",
    "\n",
    "X = df.values\n",
    "X = np.float32(X)\n",
    "y = np.float32(y)"
   ]
  },
  {
   "cell_type": "code",
   "execution_count": 7,
   "metadata": {},
   "outputs": [],
   "source": [
    "from sklearn.model_selection import train_test_split\n",
    "\n",
    "# Prepare data for prediction of diagnosis\n",
    "X_train, X_test, y_train, y_test = train_test_split(X, y, test_size=0.05, random_state=42, shuffle=True)"
   ]
  },
  {
   "cell_type": "markdown",
   "metadata": {},
   "source": [
    "### 2. Solving with decision Tree\n",
    "\n",
    "- 63.9% accuracy"
   ]
  },
  {
   "cell_type": "code",
   "execution_count": 8,
   "metadata": {},
   "outputs": [
    {
     "data": {
      "text/plain": [
       "0.6495918367346939"
      ]
     },
     "execution_count": 8,
     "metadata": {},
     "output_type": "execute_result"
    }
   ],
   "source": [
    "from sklearn.tree import DecisionTreeClassifier\n",
    "\n",
    "model = DecisionTreeClassifier(criterion=\"gini\", splitter=\"best\", max_depth=11)\n",
    "model.fit(X_train, y_train)\n",
    "model.score(X_test, y_test)"
   ]
  },
  {
   "cell_type": "markdown",
   "metadata": {},
   "source": [
    "### 2.1 Exporting decision tree to onnx"
   ]
  },
  {
   "cell_type": "code",
   "execution_count": 9,
   "metadata": {},
   "outputs": [],
   "source": [
    "# Convert into ONNX format.\n",
    "from skl2onnx import to_onnx\n",
    "\n",
    "onx = to_onnx(model, X[:1])\n",
    "with open(\"decision_tree_thyroid_cancer_prediction.onnx\", \"wb\") as f:\n",
    "    f.write(onx.SerializeToString())"
   ]
  },
  {
   "cell_type": "markdown",
   "metadata": {},
   "source": [
    "### 3. Solving with neural network"
   ]
  },
  {
   "cell_type": "code",
   "execution_count": 10,
   "metadata": {},
   "outputs": [
    {
     "data": {
      "text/plain": [
       "ThyroidCancerModel(\n",
       "  (layers): Sequential(\n",
       "    (0): Linear(in_features=24, out_features=512, bias=True)\n",
       "    (1): Dropout(p=0.2, inplace=False)\n",
       "    (2): ReLU()\n",
       "    (3): Linear(in_features=512, out_features=16, bias=True)\n",
       "    (4): Dropout(p=0.2, inplace=False)\n",
       "    (5): ReLU()\n",
       "    (6): Linear(in_features=16, out_features=1, bias=True)\n",
       "  )\n",
       ")"
      ]
     },
     "execution_count": 10,
     "metadata": {},
     "output_type": "execute_result"
    }
   ],
   "source": [
    "import torch\n",
    "\n",
    "class ThyroidCancerModel(torch.nn.Module):\n",
    "    def __init__(self, *args, **kwargs):\n",
    "        super().__init__(*args, **kwargs)\n",
    "        \n",
    "        self.layers = torch.nn.Sequential(\n",
    "            torch.nn.Linear(in_features=24, out_features=512),\n",
    "            torch.nn.Dropout(p=0.2),\n",
    "            torch.nn.ReLU(),\n",
    "            torch.nn.Linear(in_features=512, out_features=16),\n",
    "            torch.nn.Dropout(p=0.2),\n",
    "            torch.nn.ReLU(),\n",
    "            torch.nn.Linear(in_features=16, out_features=1)\n",
    "        )\n",
    "        \n",
    "    def forward(self, x):\n",
    "        return self.layers(x)\n",
    "    \n",
    "model2 = ThyroidCancerModel()\n",
    "model2"
   ]
  },
  {
   "cell_type": "code",
   "execution_count": 11,
   "metadata": {},
   "outputs": [],
   "source": [
    "optimizer = torch.optim.Adam(params = model2.parameters(), lr= 0.0001)\n",
    "lossfn = torch.nn.BCEWithLogitsLoss()"
   ]
  },
  {
   "cell_type": "code",
   "execution_count": 12,
   "metadata": {},
   "outputs": [
    {
     "data": {
      "text/plain": [
       "tensor([[0.0833],\n",
       "        [0.1318],\n",
       "        [0.0645],\n",
       "        ...,\n",
       "        [0.1386],\n",
       "        [0.1107],\n",
       "        [0.0829]], device='cuda:0', grad_fn=<AddmmBackward0>)"
      ]
     },
     "execution_count": 12,
     "metadata": {},
     "output_type": "execute_result"
    }
   ],
   "source": [
    "# creating tensors\n",
    "\n",
    "X_train_t = torch.from_numpy(X_train).to(device=\"cuda\")\n",
    "X_test_t = torch.from_numpy(X_test).to(device=\"cuda\")\n",
    "\n",
    "y_train_t = torch.from_numpy(y_train).to(device=\"cuda\")\n",
    "y_train_t = torch.argmax(y_train_t, dim=1)\n",
    "y_train_t = y_train_t.unsqueeze(dim=1).float()\n",
    "\n",
    "y_test_t = torch.from_numpy(y_test).to(device=\"cuda\")\n",
    "y_test_t = torch.argmax(y_test_t, dim=1)\n",
    "y_test_t = y_test_t.unsqueeze(dim=1).float()\n",
    "\n",
    "model2 = model2.to(device=\"cuda\")\n",
    "\n",
    "model2(X_train_t)"
   ]
  },
  {
   "cell_type": "code",
   "execution_count": 13,
   "metadata": {},
   "outputs": [],
   "source": [
    "results = pd.DataFrame(columns=[\"epoch\", \"training_loss\", \"testing_loss\", \"test_accuracy\", \"test_precision\", \"test_recall\"])"
   ]
  },
  {
   "cell_type": "code",
   "execution_count": 14,
   "metadata": {},
   "outputs": [],
   "source": [
    "from torchmetrics import Accuracy\n",
    "from torchmetrics import Precision\n",
    "from torchmetrics import Recall\n",
    "\n",
    "accuracy = Accuracy(task=\"binary\").to(device=\"cuda\")\n",
    "precision = Precision(task=\"binary\").to(device=\"cuda\")\n",
    "recall = Recall(task=\"binary\").to(device=\"cuda\")"
   ]
  },
  {
   "cell_type": "code",
   "execution_count": null,
   "metadata": {},
   "outputs": [
    {
     "name": "stdout",
     "output_type": "stream",
     "text": [
      "epoch:0 | loss: 0.6929277181625366 | test_loss: 0.692817211151123 | accuracy: 0.4973469376564026 | precision: 0.4973469376564026 | recall:1.0\n",
      "epoch:100 | loss: 0.6628478765487671 | test_loss: 0.6612849831581116 | accuracy: 0.6281632781028748 | precision: 0.649780809879303 | recall:0.547394335269928\n",
      "epoch:200 | loss: 0.645951509475708 | test_loss: 0.6436384916305542 | accuracy: 0.632244884967804 | precision: 0.6640827059745789 | recall:0.5272876620292664\n",
      "epoch:300 | loss: 0.6302390694618225 | test_loss: 0.6261577010154724 | accuracy: 0.6469388008117676 | precision: 0.6881319880485535 | recall:0.530570387840271\n",
      "epoch:400 | loss: 0.6213287115097046 | test_loss: 0.6156217455863953 | accuracy: 0.6555101871490479 | precision: 0.6879076957702637 | recall:0.562576949596405\n",
      "epoch:500 | loss: 0.6177124977111816 | test_loss: 0.611428439617157 | accuracy: 0.6593877673149109 | precision: 0.6937437057495117 | recall:0.564218282699585\n",
      "epoch:600 | loss: 0.6159069538116455 | test_loss: 0.6099299192428589 | accuracy: 0.6591836810112 | precision: 0.6943740248680115 | recall:0.5621665716171265\n",
      "epoch:700 | loss: 0.6155309677124023 | test_loss: 0.6093224287033081 | accuracy: 0.6583673357963562 | precision: 0.6929691433906555 | recall:0.5621665716171265\n",
      "epoch:800 | loss: 0.6152902841567993 | test_loss: 0.6090542078018188 | accuracy: 0.6581632494926453 | precision: 0.6935975551605225 | recall:0.5601149201393127\n",
      "epoch:900 | loss: 0.6141330599784851 | test_loss: 0.6089814305305481 | accuracy: 0.6581632494926453 | precision: 0.6935975551605225 | recall:0.5601149201393127\n",
      "epoch:1000 | loss: 0.6145188808441162 | test_loss: 0.6089649200439453 | accuracy: 0.6587755084037781 | precision: 0.695852518081665 | recall:0.5576528310775757\n",
      "epoch:1100 | loss: 0.6139434576034546 | test_loss: 0.6089382171630859 | accuracy: 0.658979594707489 | precision: 0.6960082054138184 | recall:0.5580632090568542\n",
      "epoch:1200 | loss: 0.6138402223587036 | test_loss: 0.6089617609977722 | accuracy: 0.6593877673149109 | precision: 0.6975308656692505 | recall:0.5564218163490295\n",
      "epoch:1300 | loss: 0.613867461681366 | test_loss: 0.6089348196983337 | accuracy: 0.658979594707489 | precision: 0.6972193717956543 | recall:0.5556011199951172\n",
      "epoch:1400 | loss: 0.6137421131134033 | test_loss: 0.6089714169502258 | accuracy: 0.6585714221000671 | precision: 0.6971104145050049 | recall:0.554370105266571\n",
      "epoch:1500 | loss: 0.6136825084686279 | test_loss: 0.6089609265327454 | accuracy: 0.6583673357963562 | precision: 0.697566032409668 | recall:0.5527287721633911\n",
      "epoch:1600 | loss: 0.6133357286453247 | test_loss: 0.6089815497398376 | accuracy: 0.6577550768852234 | precision: 0.6970954537391663 | recall:0.551497757434845\n",
      "epoch:1700 | loss: 0.6134557723999023 | test_loss: 0.60903400182724 | accuracy: 0.6573469638824463 | precision: 0.6971904039382935 | recall:0.5498563647270203\n",
      "epoch:1800 | loss: 0.6133160591125488 | test_loss: 0.6090263724327087 | accuracy: 0.6585714221000671 | precision: 0.699582040309906 | recall:0.5494460463523865\n",
      "epoch:1900 | loss: 0.6126236915588379 | test_loss: 0.6090139746665955 | accuracy: 0.6595918536186218 | precision: 0.7012035846710205 | recall:0.5498563647270203\n",
      "epoch:2000 | loss: 0.6127147674560547 | test_loss: 0.609043538570404 | accuracy: 0.6602040529251099 | precision: 0.7018828392028809 | recall:0.5506770610809326\n",
      "epoch:2100 | loss: 0.612756073474884 | test_loss: 0.6090292930603027 | accuracy: 0.6606122255325317 | precision: 0.7028301954269409 | recall:0.5502667427062988\n",
      "epoch:2200 | loss: 0.6127812266349792 | test_loss: 0.6090288162231445 | accuracy: 0.6604081392288208 | precision: 0.7031003832817078 | recall:0.5490357279777527\n",
      "epoch:2300 | loss: 0.6121364235877991 | test_loss: 0.6090053915977478 | accuracy: 0.6604081392288208 | precision: 0.7039577960968018 | recall:0.547394335269928\n",
      "epoch:2400 | loss: 0.6122461557388306 | test_loss: 0.609043300151825 | accuracy: 0.6608163118362427 | precision: 0.7049180269241333 | recall:0.5469840168952942\n",
      "epoch:2500 | loss: 0.6118242740631104 | test_loss: 0.6090359687805176 | accuracy: 0.6612244844436646 | precision: 0.7056643962860107 | recall:0.5469840168952942\n",
      "epoch:2600 | loss: 0.6120293140411377 | test_loss: 0.6090037226676941 | accuracy: 0.6614285707473755 | precision: 0.7060381174087524 | recall:0.5469840168952942\n",
      "epoch:2700 | loss: 0.6114814281463623 | test_loss: 0.6090333461761475 | accuracy: 0.6618367433547974 | precision: 0.7072263360023499 | recall:0.5461633205413818\n",
      "epoch:2800 | loss: 0.6118751168251038 | test_loss: 0.6090511679649353 | accuracy: 0.6618367433547974 | precision: 0.7081109881401062 | recall:0.5445219278335571\n",
      "epoch:2900 | loss: 0.611876368522644 | test_loss: 0.6090165376663208 | accuracy: 0.6610203981399536 | precision: 0.7055084705352783 | recall:0.5465736389160156\n",
      "epoch:3000 | loss: 0.6119675636291504 | test_loss: 0.6090521812438965 | accuracy: 0.6618367433547974 | precision: 0.7078891396522522 | recall:0.5449323058128357\n",
      "epoch:3100 | loss: 0.6111776232719421 | test_loss: 0.6089403033256531 | accuracy: 0.6620408296585083 | precision: 0.7080447673797607 | recall:0.5453426241874695\n",
      "epoch:3200 | loss: 0.6113510727882385 | test_loss: 0.6089352965354919 | accuracy: 0.6630612015724182 | precision: 0.7110633850097656 | recall:0.543290913105011\n",
      "epoch:3300 | loss: 0.6114627122879028 | test_loss: 0.6089076399803162 | accuracy: 0.6624490022659302 | precision: 0.7090229392051697 | recall:0.5449323058128357\n",
      "epoch:3400 | loss: 0.6115450263023376 | test_loss: 0.6089233756065369 | accuracy: 0.6626530885696411 | precision: 0.7105262875556946 | recall:0.5428805947303772\n",
      "epoch:3500 | loss: 0.6108154058456421 | test_loss: 0.608901858329773 | accuracy: 0.6632652878761292 | precision: 0.7112184762954712 | recall:0.5437012910842896\n",
      "epoch:3600 | loss: 0.6111577749252319 | test_loss: 0.6089252829551697 | accuracy: 0.6632652878761292 | precision: 0.7119008898735046 | recall:0.5424702763557434\n",
      "epoch:3700 | loss: 0.6109235286712646 | test_loss: 0.6088808178901672 | accuracy: 0.6630612015724182 | precision: 0.7124324440956116 | recall:0.5408288836479187\n"
     ]
    },
    {
     "ename": "KeyboardInterrupt",
     "evalue": "",
     "output_type": "error",
     "traceback": [
      "\u001b[31m---------------------------------------------------------------------------\u001b[39m",
      "\u001b[31mKeyboardInterrupt\u001b[39m                         Traceback (most recent call last)",
      "\u001b[36mCell\u001b[39m\u001b[36m \u001b[39m\u001b[32mIn[15]\u001b[39m\u001b[32m, line 8\u001b[39m\n\u001b[32m      6\u001b[39m loss = lossfn(logits, y_train_t)\n\u001b[32m      7\u001b[39m optimizer.zero_grad()\n\u001b[32m----> \u001b[39m\u001b[32m8\u001b[39m \u001b[43mloss\u001b[49m\u001b[43m.\u001b[49m\u001b[43mbackward\u001b[49m\u001b[43m(\u001b[49m\u001b[43m)\u001b[49m\n\u001b[32m      9\u001b[39m optimizer.step()\n\u001b[32m     11\u001b[39m \u001b[38;5;28;01mif\u001b[39;00m epoch % \u001b[32m100\u001b[39m == \u001b[32m0\u001b[39m:\n",
      "\u001b[36mFile \u001b[39m\u001b[32m~/Code/expert-system-thyroid-cancer/.venv/lib/python3.12/site-packages/torch/_tensor.py:626\u001b[39m, in \u001b[36mTensor.backward\u001b[39m\u001b[34m(self, gradient, retain_graph, create_graph, inputs)\u001b[39m\n\u001b[32m    616\u001b[39m \u001b[38;5;28;01mif\u001b[39;00m has_torch_function_unary(\u001b[38;5;28mself\u001b[39m):\n\u001b[32m    617\u001b[39m     \u001b[38;5;28;01mreturn\u001b[39;00m handle_torch_function(\n\u001b[32m    618\u001b[39m         Tensor.backward,\n\u001b[32m    619\u001b[39m         (\u001b[38;5;28mself\u001b[39m,),\n\u001b[32m   (...)\u001b[39m\u001b[32m    624\u001b[39m         inputs=inputs,\n\u001b[32m    625\u001b[39m     )\n\u001b[32m--> \u001b[39m\u001b[32m626\u001b[39m \u001b[43mtorch\u001b[49m\u001b[43m.\u001b[49m\u001b[43mautograd\u001b[49m\u001b[43m.\u001b[49m\u001b[43mbackward\u001b[49m\u001b[43m(\u001b[49m\n\u001b[32m    627\u001b[39m \u001b[43m    \u001b[49m\u001b[38;5;28;43mself\u001b[39;49m\u001b[43m,\u001b[49m\u001b[43m \u001b[49m\u001b[43mgradient\u001b[49m\u001b[43m,\u001b[49m\u001b[43m \u001b[49m\u001b[43mretain_graph\u001b[49m\u001b[43m,\u001b[49m\u001b[43m \u001b[49m\u001b[43mcreate_graph\u001b[49m\u001b[43m,\u001b[49m\u001b[43m \u001b[49m\u001b[43minputs\u001b[49m\u001b[43m=\u001b[49m\u001b[43minputs\u001b[49m\n\u001b[32m    628\u001b[39m \u001b[43m\u001b[49m\u001b[43m)\u001b[49m\n",
      "\u001b[36mFile \u001b[39m\u001b[32m~/Code/expert-system-thyroid-cancer/.venv/lib/python3.12/site-packages/torch/autograd/__init__.py:347\u001b[39m, in \u001b[36mbackward\u001b[39m\u001b[34m(tensors, grad_tensors, retain_graph, create_graph, grad_variables, inputs)\u001b[39m\n\u001b[32m    342\u001b[39m     retain_graph = create_graph\n\u001b[32m    344\u001b[39m \u001b[38;5;66;03m# The reason we repeat the same comment below is that\u001b[39;00m\n\u001b[32m    345\u001b[39m \u001b[38;5;66;03m# some Python versions print out the first line of a multi-line function\u001b[39;00m\n\u001b[32m    346\u001b[39m \u001b[38;5;66;03m# calls in the traceback and some print out the last line\u001b[39;00m\n\u001b[32m--> \u001b[39m\u001b[32m347\u001b[39m \u001b[43m_engine_run_backward\u001b[49m\u001b[43m(\u001b[49m\n\u001b[32m    348\u001b[39m \u001b[43m    \u001b[49m\u001b[43mtensors\u001b[49m\u001b[43m,\u001b[49m\n\u001b[32m    349\u001b[39m \u001b[43m    \u001b[49m\u001b[43mgrad_tensors_\u001b[49m\u001b[43m,\u001b[49m\n\u001b[32m    350\u001b[39m \u001b[43m    \u001b[49m\u001b[43mretain_graph\u001b[49m\u001b[43m,\u001b[49m\n\u001b[32m    351\u001b[39m \u001b[43m    \u001b[49m\u001b[43mcreate_graph\u001b[49m\u001b[43m,\u001b[49m\n\u001b[32m    352\u001b[39m \u001b[43m    \u001b[49m\u001b[43minputs\u001b[49m\u001b[43m,\u001b[49m\n\u001b[32m    353\u001b[39m \u001b[43m    \u001b[49m\u001b[43mallow_unreachable\u001b[49m\u001b[43m=\u001b[49m\u001b[38;5;28;43;01mTrue\u001b[39;49;00m\u001b[43m,\u001b[49m\n\u001b[32m    354\u001b[39m \u001b[43m    \u001b[49m\u001b[43maccumulate_grad\u001b[49m\u001b[43m=\u001b[49m\u001b[38;5;28;43;01mTrue\u001b[39;49;00m\u001b[43m,\u001b[49m\n\u001b[32m    355\u001b[39m \u001b[43m\u001b[49m\u001b[43m)\u001b[49m\n",
      "\u001b[36mFile \u001b[39m\u001b[32m~/Code/expert-system-thyroid-cancer/.venv/lib/python3.12/site-packages/torch/autograd/graph.py:823\u001b[39m, in \u001b[36m_engine_run_backward\u001b[39m\u001b[34m(t_outputs, *args, **kwargs)\u001b[39m\n\u001b[32m    821\u001b[39m     unregister_hooks = _register_logging_hooks_on_whole_graph(t_outputs)\n\u001b[32m    822\u001b[39m \u001b[38;5;28;01mtry\u001b[39;00m:\n\u001b[32m--> \u001b[39m\u001b[32m823\u001b[39m     \u001b[38;5;28;01mreturn\u001b[39;00m \u001b[43mVariable\u001b[49m\u001b[43m.\u001b[49m\u001b[43m_execution_engine\u001b[49m\u001b[43m.\u001b[49m\u001b[43mrun_backward\u001b[49m\u001b[43m(\u001b[49m\u001b[43m  \u001b[49m\u001b[38;5;66;43;03m# Calls into the C++ engine to run the backward pass\u001b[39;49;00m\n\u001b[32m    824\u001b[39m \u001b[43m        \u001b[49m\u001b[43mt_outputs\u001b[49m\u001b[43m,\u001b[49m\u001b[43m \u001b[49m\u001b[43m*\u001b[49m\u001b[43margs\u001b[49m\u001b[43m,\u001b[49m\u001b[43m \u001b[49m\u001b[43m*\u001b[49m\u001b[43m*\u001b[49m\u001b[43mkwargs\u001b[49m\n\u001b[32m    825\u001b[39m \u001b[43m    \u001b[49m\u001b[43m)\u001b[49m  \u001b[38;5;66;03m# Calls into the C++ engine to run the backward pass\u001b[39;00m\n\u001b[32m    826\u001b[39m \u001b[38;5;28;01mfinally\u001b[39;00m:\n\u001b[32m    827\u001b[39m     \u001b[38;5;28;01mif\u001b[39;00m attach_logging_hooks:\n",
      "\u001b[31mKeyboardInterrupt\u001b[39m: "
     ]
    }
   ],
   "source": [
    "\n",
    "\n",
    "epochs = 2001\n",
    "\n",
    "for epoch in range(epochs):\n",
    "    model2.train()\n",
    "    logits = model2(X_train_t)\n",
    "    loss = lossfn(logits, y_train_t)\n",
    "    optimizer.zero_grad()\n",
    "    loss.backward()\n",
    "    optimizer.step()\n",
    "    \n",
    "    if epoch % 100 == 0:\n",
    "        model2.eval()\n",
    "        with torch.inference_mode():\n",
    "            test_logits = model2(X_test_t)\n",
    "            test_loss = lossfn(test_logits, y_test_t)\n",
    "            \n",
    "            res = torch.sigmoid(test_logits)\n",
    "            res = (res > 0.5).int()\n",
    "            \n",
    "            ac = accuracy(res, y_test_t)\n",
    "            pc = precision(res, y_test_t)\n",
    "            rc = recall(res, y_test_t)\n",
    "            \n",
    "            results.loc[len(results)] = [epoch, loss.item(), test_loss.item(), ac.item(), pc.item(), rc.item()]\n",
    "            \n",
    "            print(F\"epoch:{epoch} | loss: {loss.item()} | test_loss: {test_loss.item()} | accuracy: {ac.item()} | precision: {pc.item()} | recall:{rc.item()}\")\n",
    "            \n",
    "        "
   ]
  },
  {
   "cell_type": "code",
   "execution_count": null,
   "metadata": {},
   "outputs": [
    {
     "data": {
      "image/png": "[encoded data removed]",
      "text/plain": [
       "<Figure size 640x480 with 1 Axes>"
      ]
     },
     "metadata": {},
     "output_type": "display_data"
    }
   ],
   "source": [
    "import matplotlib.pyplot as plt\n",
    "\n",
    "\n",
    "plt.scatter(y=results[\"test_accuracy\"].values, x=results[\"epoch\"].values)\n",
    "plt.show()"
   ]
  }
 ],
 "metadata": {
  "kernelspec": {
   "display_name": ".venv",
   "language": "python",
   "name": "python3"
  },
  "language_info": {
   "codemirror_mode": {
    "name": "ipython",
    "version": 3
   },
   "file_extension": ".py",
   "mimetype": "text/x-python",
   "name": "python",
   "nbconvert_exporter": "python",
   "pygments_lexer": "ipython3",
   "version": "3.12.3"
  }
 },
 "nbformat": 4,
 "nbformat_minor": 2
}
